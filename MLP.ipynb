{
 "cells": [
  {
   "cell_type": "code",
   "execution_count": 3,
   "metadata": {
    "colab": {
     "base_uri": "https://localhost:8080/",
     "height": 1000
    },
    "colab_type": "code",
    "id": "H9EU0e8yzFOm",
    "outputId": "fdb25511-f72a-4b12-811c-1bc8b64c54d8"
   },
   "outputs": [
    {
     "name": "stdout",
     "output_type": "stream",
     "text": [
      "x_train shape: (60000, 28, 28, 1)\n",
      "60000 train samples\n",
      "10000 test samples\n"
     ]
    }
   ],
   "source": [
    "# Credits: https://github.com/keras-team/keras/blob/master/examples/mnist_cnn.py\n",
    "\n",
    "\n",
    "from __future__ import print_function\n",
    "import warnings\n",
    "warnings.filterwarnings('ignore')\n",
    "import keras\n",
    "from keras.datasets import mnist\n",
    "from keras.models import Sequential\n",
    "from keras.layers import Dense, Dropout, Flatten\n",
    "from keras.layers import Conv2D, MaxPooling2D\n",
    "from keras import backend as K\n",
    "from keras.layers.normalization import BatchNormalization\n",
    "batch_size = 128\n",
    "num_classes = 10\n",
    "epochs = 12\n",
    "\n",
    "# input image dimensions\n",
    "img_rows, img_cols = 28, 28\n",
    "\n",
    "# the data, split between train and test sets\n",
    "(x_train, y_train), (x_test, y_test) = mnist.load_data()\n",
    "\n",
    "if K.image_data_format() == 'channels_first':\n",
    "    x_train = x_train.reshape(x_train.shape[0], 1, img_rows, img_cols)\n",
    "    x_test = x_test.reshape(x_test.shape[0], 1, img_rows, img_cols)\n",
    "    input_shape = (1, img_rows, img_cols)\n",
    "else:\n",
    "    x_train = x_train.reshape(x_train.shape[0], img_rows, img_cols, 1)\n",
    "    x_test = x_test.reshape(x_test.shape[0], img_rows, img_cols, 1)\n",
    "    input_shape = (img_rows, img_cols, 1)\n",
    "\n",
    "x_train = x_train.astype('float32')\n",
    "x_test = x_test.astype('float32')\n",
    "x_train /= 255\n",
    "x_test /= 255\n",
    "print('x_train shape:', x_train.shape)\n",
    "print(x_train.shape[0], 'train samples')\n",
    "print(x_test.shape[0], 'test samples')\n",
    "\n",
    "# convert class vectors to binary class matrices\n",
    "y_train = keras.utils.to_categorical(y_train, num_classes)\n",
    "y_test = keras.utils.to_categorical(y_test, num_classes)\n",
    "\n"
   ]
  },
  {
   "cell_type": "markdown",
   "metadata": {},
   "source": [
    "# CNN with kernal(3*3) without Batch Normalisation"
   ]
  },
  {
   "cell_type": "code",
   "execution_count": null,
   "metadata": {},
   "outputs": [],
   "source": [
    "model = Sequential()\n",
    "model.add(Conv2D(32, kernel_size=(3, 3),\n",
    "                 activation='relu',\n",
    "                 input_shape=input_shape))\n",
    "model.add(Conv2D(64, (3, 3), activation='relu'))\n",
    "model.add(MaxPooling2D(pool_size=(2, 2)))\n",
    "model.add(Dropout(0.25))\n",
    "model.add(Flatten())\n",
    "model.add(Dense(128, activation='relu'))\n",
    "model.add(Dropout(0.5))\n",
    "model.add(Dense(num_classes, activation='softmax'))\n",
    "\n",
    "model.compile(loss=keras.losses.categorical_crossentropy,\n",
    "              optimizer=keras.optimizers.Adadelta(),\n",
    "              metrics=['accuracy'])\n",
    "\n",
    "model.fit(x_train, y_train,\n",
    "          batch_size=batch_size,\n",
    "          epochs=epochs,\n",
    "          verbose=1,\n",
    "          validation_data=(x_test, y_test))\n",
    "score = model.evaluate(x_test, y_test, verbose=0)\n",
    "print('Test loss:', score[0])\n",
    "print('Test accuracy:', score[1])"
   ]
  },
  {
   "cell_type": "markdown",
   "metadata": {},
   "source": [
    "# CNN with kernal(2*2) with Batch Normalisation"
   ]
  },
  {
   "cell_type": "code",
   "execution_count": 6,
   "metadata": {
    "colab": {
     "base_uri": "https://localhost:8080/",
     "height": 508
    },
    "colab_type": "code",
    "id": "fv2fmSXX7enz",
    "outputId": "b4dfd9c6-53ad-4e12-b433-ecb5bd03c26c"
   },
   "outputs": [
    {
     "name": "stdout",
     "output_type": "stream",
     "text": [
      "Train on 60000 samples, validate on 10000 samples\n",
      "Epoch 1/12\n",
      "60000/60000 [==============================] - 413s 7ms/step - loss: 0.2051 - acc: 0.9403 - val_loss: 0.0732 - val_acc: 0.9760\n",
      "Epoch 2/12\n",
      "60000/60000 [==============================] - 391s 7ms/step - loss: 0.0761 - acc: 0.9782 - val_loss: 0.0334 - val_acc: 0.9885\n",
      "Epoch 3/12\n",
      "60000/60000 [==============================] - 364s 6ms/step - loss: 0.0560 - acc: 0.9840 - val_loss: 0.0323 - val_acc: 0.9905\n",
      "Epoch 4/12\n",
      "60000/60000 [==============================] - 358s 6ms/step - loss: 0.0449 - acc: 0.9870 - val_loss: 0.0291 - val_acc: 0.9903\n",
      "Epoch 5/12\n",
      "60000/60000 [==============================] - 350s 6ms/step - loss: 0.0385 - acc: 0.9885 - val_loss: 0.0297 - val_acc: 0.9909\n",
      "Epoch 6/12\n",
      "60000/60000 [==============================] - 348s 6ms/step - loss: 0.0312 - acc: 0.9913 - val_loss: 0.0341 - val_acc: 0.9907\n",
      "Epoch 7/12\n",
      "60000/60000 [==============================] - 363s 6ms/step - loss: 0.0268 - acc: 0.9923 - val_loss: 0.0386 - val_acc: 0.9896\n",
      "Epoch 8/12\n",
      "60000/60000 [==============================] - 358s 6ms/step - loss: 0.0274 - acc: 0.9919 - val_loss: 0.0350 - val_acc: 0.9901\n",
      "Epoch 9/12\n",
      "60000/60000 [==============================] - 362s 6ms/step - loss: 0.0245 - acc: 0.9926 - val_loss: 0.0267 - val_acc: 0.9927\n",
      "Epoch 10/12\n",
      "60000/60000 [==============================] - 356s 6ms/step - loss: 0.0212 - acc: 0.9935 - val_loss: 0.0343 - val_acc: 0.9930\n",
      "Epoch 11/12\n",
      "60000/60000 [==============================] - 390s 7ms/step - loss: 0.0212 - acc: 0.9937 - val_loss: 0.0269 - val_acc: 0.9926\n",
      "Epoch 12/12\n",
      "60000/60000 [==============================] - 362s 6ms/step - loss: 0.0203 - acc: 0.9941 - val_loss: 0.0297 - val_acc: 0.9932\n",
      "Test loss: 0.029716489619803815\n",
      "Test accuracy: 0.9932\n"
     ]
    }
   ],
   "source": [
    "model2 = Sequential()\n",
    "model2.add(Conv2D(32, kernel_size=(2, 2),\n",
    "                 activation='relu',\n",
    "                 input_shape=input_shape))\n",
    "model2.add(Conv2D(64, (2, 2), activation='relu'))\n",
    "model2.add(MaxPooling2D(pool_size=(2, 2)))\n",
    "model2.add(BatchNormalization())\n",
    "\n",
    "model2.add(Conv2D(128, (2, 2), activation='relu'))\n",
    "model2.add(MaxPooling2D(pool_size=(2, 2)))\n",
    "model2.add(Dropout(0.25))\n",
    "model2.add(BatchNormalization())\n",
    "\n",
    "model2.add(Flatten())\n",
    "model2.add(Dense(240, activation='relu'))\n",
    "model2.add(Dropout(0.5))\n",
    "model2.add(Dense(num_classes, activation='softmax'))\n",
    "\n",
    "model2.compile(loss=keras.losses.categorical_crossentropy,\n",
    "              optimizer=keras.optimizers.Adadelta(),\n",
    "              metrics=['accuracy'])\n",
    "\n",
    "model2.fit(x_train, y_train,\n",
    "          batch_size=batch_size,\n",
    "          epochs=epochs,\n",
    "          verbose=1,\n",
    "          validation_data=(x_test, y_test))\n",
    "score = model2.evaluate(x_test, y_test, verbose=0)\n",
    "print('Test loss:', score[0])\n",
    "print('Test accuracy:', score[1])"
   ]
  },
  {
   "cell_type": "markdown",
   "metadata": {},
   "source": [
    "# CNN with kernal(5*5) with Batch Normalisation and dropout"
   ]
  },
  {
   "cell_type": "code",
   "execution_count": 8,
   "metadata": {
    "colab": {
     "base_uri": "https://localhost:8080/",
     "height": 435
    },
    "colab_type": "code",
    "id": "EvL7zPxmPnBG",
    "outputId": "5329aa6b-e3d2-4e5d-dc69-cf2e98e8abd8"
   },
   "outputs": [
    {
     "name": "stdout",
     "output_type": "stream",
     "text": [
      "Train on 60000 samples, validate on 10000 samples\n",
      "Epoch 1/10\n",
      "60000/60000 [==============================] - 1302s 22ms/step - loss: 0.1815 - acc: 0.9463 - val_loss: 0.0455 - val_acc: 0.9864\n",
      "Epoch 2/10\n",
      "60000/60000 [==============================] - 1308s 22ms/step - loss: 0.0692 - acc: 0.9798 - val_loss: 0.0380 - val_acc: 0.9879\n",
      "Epoch 3/10\n",
      "60000/60000 [==============================] - 1151s 19ms/step - loss: 0.0489 - acc: 0.9852 - val_loss: 0.0521 - val_acc: 0.9848\n",
      "Epoch 4/10\n",
      "60000/60000 [==============================] - 1244s 21ms/step - loss: 0.0354 - acc: 0.9892 - val_loss: 0.0243 - val_acc: 0.9919\n",
      "Epoch 5/10\n",
      "60000/60000 [==============================] - 1160s 19ms/step - loss: 0.0314 - acc: 0.9906 - val_loss: 0.0233 - val_acc: 0.9923\n",
      "Epoch 6/10\n",
      "60000/60000 [==============================] - 1298s 22ms/step - loss: 0.0243 - acc: 0.9925 - val_loss: 0.0200 - val_acc: 0.9932\n",
      "Epoch 7/10\n",
      "60000/60000 [==============================] - 1292s 22ms/step - loss: 0.0203 - acc: 0.9935 - val_loss: 0.0206 - val_acc: 0.9940\n",
      "Epoch 8/10\n",
      "60000/60000 [==============================] - 1164s 19ms/step - loss: 0.0178 - acc: 0.9943 - val_loss: 0.0225 - val_acc: 0.9938\n",
      "Epoch 9/10\n",
      "60000/60000 [==============================] - 1218s 20ms/step - loss: 0.0155 - acc: 0.9950 - val_loss: 0.0174 - val_acc: 0.9946\n",
      "Epoch 10/10\n",
      "60000/60000 [==============================] - 1252s 21ms/step - loss: 0.0139 - acc: 0.9955 - val_loss: 0.0220 - val_acc: 0.9934\n",
      "Test loss: 0.02203270585120217\n",
      "Test accuracy: 0.9934\n"
     ]
    }
   ],
   "source": [
    "model3 = Sequential()\n",
    "\n",
    "\n",
    "model3.add(BatchNormalization())\n",
    "model3.add(Conv2D(32, kernel_size=(5, 5),\n",
    "                 activation='relu',\n",
    "                 input_shape=input_shape))\n",
    "\n",
    "model3.add(BatchNormalization())\n",
    "model3.add(Conv2D(64, (5, 5), activation='relu'))\n",
    "model3.add(BatchNormalization())\n",
    "\n",
    "model3.add(Conv2D(150, (5, 5), activation='relu'))\n",
    "\n",
    "model3.add(MaxPooling2D(pool_size=(3,3)))\n",
    "model3.add(Dropout(0.25))\n",
    "model3.add(BatchNormalization())\n",
    "\n",
    "model3.add(Flatten())\n",
    "model3.add(Dense(256, activation='relu'))\n",
    "model3.add(Dropout(0.5))\n",
    "model3.add(Dense(num_classes, activation='softmax'))\n",
    "\n",
    "model3.compile(loss=keras.losses.categorical_crossentropy,\n",
    "              optimizer=keras.optimizers.Adadelta(),\n",
    "              metrics=['accuracy'])\n",
    "\n",
    "model3.fit(x_train, y_train,\n",
    "          batch_size=250,\n",
    "          epochs=10,\n",
    "          verbose=1,\n",
    "          validation_data=(x_test, y_test))\n",
    "score = model3.evaluate(x_test, y_test, verbose=0)\n",
    "print('Test loss:', score[0])\n",
    "print('Test accuracy:', score[1])"
   ]
  },
  {
   "cell_type": "markdown",
   "metadata": {},
   "source": [
    "# CNN with diff kernal size  with Batch Normalisation and dropout"
   ]
  },
  {
   "cell_type": "code",
   "execution_count": null,
   "metadata": {
    "colab": {
     "base_uri": "https://localhost:8080/",
     "height": 837
    },
    "colab_type": "code",
    "id": "wC5T_GnPKEa3",
    "outputId": "5453362a-247a-4c14-dcfe-046dcc0e682e"
   },
   "outputs": [
    {
     "name": "stdout",
     "output_type": "stream",
     "text": [
      "Train on 60000 samples, validate on 10000 samples\n",
      "Epoch 1/10\n",
      "60000/60000 [==============================] - 2623s 44ms/step - loss: 0.2223 - acc: 0.9362 - val_loss: 0.0846 - val_acc: 0.9773\n",
      "Epoch 2/10\n",
      "60000/60000 [==============================] - 2898s 48ms/step - loss: 0.0848 - acc: 0.9754 - val_loss: 0.0556 - val_acc: 0.9834\n",
      "Epoch 3/10\n",
      "30125/60000 [==============>...............] - ETA: 25:06 - loss: 0.0658 - acc: 0.9809"
     ]
    }
   ],
   "source": [
    "model4 = Sequential()\n",
    "model4.add(Conv2D(32, kernel_size=(5, 5),\n",
    "                 activation='relu',\n",
    "                 input_shape=input_shape))\n",
    "\n",
    "model4.add(Conv2D(64, (3, 3), activation='relu'))\n",
    "model4.add(BatchNormalization())\n",
    "\n",
    "\n",
    "model4.add(Conv2D(120, (7, 7), activation='relu'))\n",
    "\n",
    "model4.add(Conv2D(240, (5, 5), activation='relu'))\n",
    "model4.add(BatchNormalization())\n",
    "\n",
    "model4.add(MaxPooling2D(pool_size=(3,3)))\n",
    "model4.add(Dropout(0.25))\n",
    "model4.add(BatchNormalization())\n",
    "\n",
    "model4.add(Flatten())\n",
    "model4.add(Dense(256, activation='relu'))\n",
    "model4.add(Dropout(0.5))\n",
    "model4.add(Dense(num_classes, activation='softmax'))\n",
    "\n",
    "model4.compile(loss=keras.losses.categorical_crossentropy,\n",
    "              optimizer=keras.optimizers.Adadelta(),\n",
    "              metrics=['accuracy'])\n",
    "\n",
    "model4.fit(x_train, y_train,\n",
    "          batch_size=125,\n",
    "          epochs=10,\n",
    "          verbose=1,\n",
    "          validation_data=(x_test, y_test))\n",
    "score = model4.evaluate(x_test, y_test, verbose=0)\n",
    "print('Test loss:', score[0])\n",
    "print('Test accuracy:', score[1])"
   ]
  },
  {
   "cell_type": "code",
   "execution_count": null,
   "metadata": {},
   "outputs": [],
   "source": [
    "from prettytable import PrettyTable\n",
    "    \n",
    "x = PrettyTable()\n",
    "\n",
    "x.field_names = [\"No. of CNN layers\", \"Kernal size\", \"Test AUC\", \"Validate AUC\"]\n",
    "\n",
    "x.add_row([\"2\", \"3*3\", 0.9914, 0.9923])\n",
    "x.add_row([\"3\", \"2*2\", 0.9933, 0.9937])\n",
    "x.add_row([\"3\", \"5*5\", 0.9942, 0.9924])\n",
    "x.add_row([\"4\", \"5,3,7,5\", 0.9942, 0.9924])\n",
    "\n",
    "print(x)"
   ]
  },
  {
   "cell_type": "markdown",
   "metadata": {},
   "source": [
    "From above pritty table we can conclude that Test Auc and Validate Auc for kernal size 2*2 and 3 CNN layer is approximately same ascompared to other models."
   ]
  },
  {
   "cell_type": "code",
   "execution_count": null,
   "metadata": {},
   "outputs": [],
   "source": []
  }
 ],
 "metadata": {
  "colab": {
   "collapsed_sections": [],
   "name": "CNN_MNIST_(1) (1).ipynb",
   "provenance": [],
   "version": "0.3.2"
  },
  "kernelspec": {
   "display_name": "Python 3",
   "language": "python",
   "name": "python3"
  },
  "language_info": {
   "codemirror_mode": {
    "name": "ipython",
    "version": 3
   },
   "file_extension": ".py",
   "mimetype": "text/x-python",
   "name": "python",
   "nbconvert_exporter": "python",
   "pygments_lexer": "ipython3",
   "version": "3.6.5"
  }
 },
 "nbformat": 4,
 "nbformat_minor": 1
}
