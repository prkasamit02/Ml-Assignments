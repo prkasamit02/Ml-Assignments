{
 "cells": [
  {
   "cell_type": "markdown",
   "metadata": {},
   "source": [
    "# Assignment-21: Human activity detection [M]\n"
   ]
  },
  {
   "cell_type": "code",
   "execution_count": 2,
   "metadata": {},
   "outputs": [],
   "source": [
    "# Importing Libraries"
   ]
  },
  {
   "cell_type": "code",
   "execution_count": 3,
   "metadata": {},
   "outputs": [],
   "source": [
    "import pandas as pd\n",
    "import numpy as np"
   ]
  },
  {
   "cell_type": "code",
   "execution_count": 4,
   "metadata": {},
   "outputs": [],
   "source": [
    "# Activities are the class labels\n",
    "# It is a 6 class classification\n",
    "ACTIVITIES = {\n",
    "    0: 'WALKING',\n",
    "    1: 'WALKING_UPSTAIRS',\n",
    "    2: 'WALKING_DOWNSTAIRS',\n",
    "    3: 'SITTING',\n",
    "    4: 'STANDING',\n",
    "    5: 'LAYING',\n",
    "}\n",
    "\n",
    "# Utility function to print the confusion matrix\n",
    "def confusion_matrix(Y_true, Y_pred):\n",
    "    Y_true = pd.Series([ACTIVITIES[y] for y in np.argmax(Y_true, axis=1)])\n",
    "    Y_pred = pd.Series([ACTIVITIES[y] for y in np.argmax(Y_pred, axis=1)])\n",
    "\n",
    "    return pd.crosstab(Y_true, Y_pred, rownames=['True'], colnames=['Pred'])"
   ]
  },
  {
   "cell_type": "markdown",
   "metadata": {},
   "source": [
    "### Data"
   ]
  },
  {
   "cell_type": "code",
   "execution_count": 5,
   "metadata": {},
   "outputs": [],
   "source": [
    "# Data directory\n",
    "DATADIR = 'UCI_HAR_Dataset'"
   ]
  },
  {
   "cell_type": "code",
   "execution_count": 6,
   "metadata": {},
   "outputs": [],
   "source": [
    "# Raw data signals\n",
    "# Signals are from Accelerometer and Gyroscope\n",
    "# The signals are in x,y,z directions\n",
    "# Sensor signals are filtered to have only body acceleration\n",
    "# excluding the acceleration due to gravity\n",
    "# Triaxial acceleration from the accelerometer is total acceleration\n",
    "SIGNALS = [\n",
    "    \"body_acc_x\",\n",
    "    \"body_acc_y\",\n",
    "    \"body_acc_z\",\n",
    "    \"body_gyro_x\",\n",
    "    \"body_gyro_y\",\n",
    "    \"body_gyro_z\",\n",
    "    \"total_acc_x\",\n",
    "    \"total_acc_y\",\n",
    "    \"total_acc_z\"\n",
    "]"
   ]
  },
  {
   "cell_type": "code",
   "execution_count": 7,
   "metadata": {},
   "outputs": [],
   "source": [
    "# Utility function to read the data from csv file\n",
    "def _read_csv(filename):\n",
    "    return pd.read_csv(filename, delim_whitespace=True, header=None)\n",
    "\n",
    "# Utility function to load the load\n",
    "def load_signals(subset):\n",
    "    signals_data = []\n",
    "\n",
    "    for signal in SIGNALS:\n",
    "        filename = f'UCI_HAR_Dataset/{subset}/Inertial Signals/{signal}_{subset}.txt'\n",
    "        signals_data.append(\n",
    "            _read_csv(filename).as_matrix()\n",
    "        ) \n",
    "\n",
    "    # Transpose is used to change the dimensionality of the output,\n",
    "    # aggregating the signals by combination of sample/timestep.\n",
    "    # Resultant shape is (7352 train/2947 test samples, 128 timesteps, 9 signals)\n",
    "    return np.transpose(signals_data, (1, 2, 0))"
   ]
  },
  {
   "cell_type": "code",
   "execution_count": 8,
   "metadata": {},
   "outputs": [],
   "source": [
    "\n",
    "def load_y(subset):\n",
    "    \"\"\"\n",
    "    The objective that we are trying to predict is a integer, from 1 to 6,\n",
    "    that represents a human activity. We return a binary representation of \n",
    "    every sample objective as a 6 bits vector using One Hot Encoding\n",
    "    (https://pandas.pydata.org/pandas-docs/stable/generated/pandas.get_dummies.html)\n",
    "    \"\"\"\n",
    "    filename = f'UCI_HAR_Dataset/{subset}/y_{subset}.txt'\n",
    "    y = _read_csv(filename)[0]\n",
    "\n",
    "    return pd.get_dummies(y).as_matrix()"
   ]
  },
  {
   "cell_type": "code",
   "execution_count": 9,
   "metadata": {},
   "outputs": [],
   "source": [
    "def load_data():\n",
    "    \"\"\"\n",
    "    Obtain the dataset from multiple files.\n",
    "    Returns: X_train, X_test, y_train, y_test\n",
    "    \"\"\"\n",
    "    X_train, X_test = load_signals('train'), load_signals('test')\n",
    "    y_train, y_test = load_y('train'), load_y('test')\n",
    "\n",
    "    return X_train, X_test, y_train, y_test"
   ]
  },
  {
   "cell_type": "code",
   "execution_count": 10,
   "metadata": {},
   "outputs": [
    {
     "name": "stderr",
     "output_type": "stream",
     "text": [
      "C:\\Users\\91889\\Anaconda3\\lib\\site-packages\\h5py\\__init__.py:36: FutureWarning: Conversion of the second argument of issubdtype from `float` to `np.floating` is deprecated. In future, it will be treated as `np.float64 == np.dtype(float).type`.\n",
      "  from ._conv import register_converters as _register_converters\n"
     ]
    }
   ],
   "source": [
    "# Importing tensorflow\n",
    "np.random.seed(42)\n",
    "import tensorflow as tf\n",
    "tf.set_random_seed(42)"
   ]
  },
  {
   "cell_type": "code",
   "execution_count": 11,
   "metadata": {},
   "outputs": [],
   "source": [
    "# Configuring a session\n",
    "session_conf = tf.ConfigProto(\n",
    "    intra_op_parallelism_threads=1,\n",
    "    inter_op_parallelism_threads=1\n",
    ")"
   ]
  },
  {
   "cell_type": "code",
   "execution_count": 12,
   "metadata": {},
   "outputs": [
    {
     "name": "stderr",
     "output_type": "stream",
     "text": [
      "Using TensorFlow backend.\n"
     ]
    }
   ],
   "source": [
    "# Import Keras\n",
    "from keras import backend as K\n",
    "sess = tf.Session(graph=tf.get_default_graph(), config=session_conf)\n",
    "K.set_session(sess)"
   ]
  },
  {
   "cell_type": "code",
   "execution_count": 13,
   "metadata": {},
   "outputs": [],
   "source": [
    "# Importing libraries\n",
    "from keras.models import Sequential\n",
    "from keras.layers import LSTM\n",
    "from keras.layers.core import Dense, Dropout"
   ]
  },
  {
   "cell_type": "code",
   "execution_count": 14,
   "metadata": {},
   "outputs": [],
   "source": [
    "# Initializing parameters\n",
    "epochs = [30,35]\n",
    "batch_size = 16\n",
    "n_hidden = 32"
   ]
  },
  {
   "cell_type": "code",
   "execution_count": 15,
   "metadata": {},
   "outputs": [],
   "source": [
    "# Utility function to count the number of classes\n",
    "def _count_classes(y):\n",
    "    return len(set([tuple(category) for category in y]))"
   ]
  },
  {
   "cell_type": "code",
   "execution_count": 16,
   "metadata": {},
   "outputs": [
    {
     "name": "stderr",
     "output_type": "stream",
     "text": [
      "C:\\Users\\91889\\Anaconda3\\lib\\site-packages\\ipykernel_launcher.py:12: FutureWarning: Method .as_matrix will be removed in a future version. Use .values instead.\n",
      "  if sys.path[0] == '':\n"
     ]
    }
   ],
   "source": [
    "# Loading the train and test data\n",
    "X_train, X_test, Y_train, Y_test = load_data()"
   ]
  },
  {
   "cell_type": "code",
   "execution_count": 17,
   "metadata": {},
   "outputs": [
    {
     "name": "stdout",
     "output_type": "stream",
     "text": [
      "128\n",
      "9\n",
      "7352\n"
     ]
    }
   ],
   "source": [
    "timesteps = len(X_train[0])\n",
    "input_dim = len(X_train[0][0])\n",
    "n_classes = _count_classes(Y_train)\n",
    "\n",
    "print(timesteps)\n",
    "print(input_dim)\n",
    "print(len(X_train))"
   ]
  },
  {
   "cell_type": "markdown",
   "metadata": {},
   "source": [
    "- Defining the Architecture of LSTM"
   ]
  },
  {
   "cell_type": "markdown",
   "metadata": {},
   "source": [
    "# 1) 32 LSTM with rmsprop optimizer"
   ]
  },
  {
   "cell_type": "code",
   "execution_count": 17,
   "metadata": {},
   "outputs": [
    {
     "name": "stdout",
     "output_type": "stream",
     "text": [
      "WARNING:tensorflow:From C:\\Users\\91889\\Anaconda3\\lib\\site-packages\\tensorflow\\python\\framework\\op_def_library.py:263: colocate_with (from tensorflow.python.framework.ops) is deprecated and will be removed in a future version.\n",
      "Instructions for updating:\n",
      "Colocations handled automatically by placer.\n",
      "WARNING:tensorflow:From C:\\Users\\91889\\Anaconda3\\lib\\site-packages\\keras\\backend\\tensorflow_backend.py:3445: calling dropout (from tensorflow.python.ops.nn_ops) with keep_prob is deprecated and will be removed in a future version.\n",
      "Instructions for updating:\n",
      "Please use `rate` instead of `keep_prob`. Rate should be set to `rate = 1 - keep_prob`.\n",
      "_________________________________________________________________\n",
      "Layer (type)                 Output Shape              Param #   \n",
      "=================================================================\n",
      "lstm_1 (LSTM)                (None, 32)                5376      \n",
      "_________________________________________________________________\n",
      "dropout_1 (Dropout)          (None, 32)                0         \n",
      "_________________________________________________________________\n",
      "dense_1 (Dense)              (None, 6)                 198       \n",
      "=================================================================\n",
      "Total params: 5,574\n",
      "Trainable params: 5,574\n",
      "Non-trainable params: 0\n",
      "_________________________________________________________________\n",
      "WARNING:tensorflow:From C:\\Users\\91889\\Anaconda3\\lib\\site-packages\\tensorflow\\python\\ops\\math_ops.py:3066: to_int32 (from tensorflow.python.ops.math_ops) is deprecated and will be removed in a future version.\n",
      "Instructions for updating:\n",
      "Use tf.cast instead.\n",
      "Train on 7352 samples, validate on 2947 samples\n",
      "Epoch 1/30\n",
      "7352/7352 [==============================] - 71s 10ms/step - loss: 1.2928 - acc: 0.4580 - val_loss: 1.1458 - val_acc: 0.4554\n",
      "Epoch 2/30\n",
      "7352/7352 [==============================] - 67s 9ms/step - loss: 0.9362 - acc: 0.5790 - val_loss: 0.9057 - val_acc: 0.5602\n",
      "Epoch 3/30\n",
      "7352/7352 [==============================] - 67s 9ms/step - loss: 0.7305 - acc: 0.6668 - val_loss: 0.7522 - val_acc: 0.6373\n",
      "Epoch 4/30\n",
      "7352/7352 [==============================] - 65s 9ms/step - loss: 0.6356 - acc: 0.7184 - val_loss: 0.6936 - val_acc: 0.6960\n",
      "Epoch 5/30\n",
      "7352/7352 [==============================] - 67s 9ms/step - loss: 0.5900 - acc: 0.7507 - val_loss: 0.6446 - val_acc: 0.7228\n",
      "Epoch 6/30\n",
      "7352/7352 [==============================] - 67s 9ms/step - loss: 0.5197 - acc: 0.7670 - val_loss: 0.8509 - val_acc: 0.6841\n",
      "Epoch 7/30\n",
      "7352/7352 [==============================] - 66s 9ms/step - loss: 0.4785 - acc: 0.7787 - val_loss: 0.5597 - val_acc: 0.7526\n",
      "Epoch 8/30\n",
      "7352/7352 [==============================] - 67s 9ms/step - loss: 0.3969 - acc: 0.8405 - val_loss: 0.4978 - val_acc: 0.8551\n",
      "Epoch 9/30\n",
      "7352/7352 [==============================] - 67s 9ms/step - loss: 0.3408 - acc: 0.9000 - val_loss: 0.4914 - val_acc: 0.8548\n",
      "Epoch 10/30\n",
      "7352/7352 [==============================] - 63s 9ms/step - loss: 0.2693 - acc: 0.9172 - val_loss: 0.4234 - val_acc: 0.8884\n",
      "Epoch 11/30\n",
      "7352/7352 [==============================] - 61s 8ms/step - loss: 0.2475 - acc: 0.9233 - val_loss: 0.4653 - val_acc: 0.8761\n",
      "Epoch 12/30\n",
      "7352/7352 [==============================] - 66s 9ms/step - loss: 0.2212 - acc: 0.9320 - val_loss: 0.4126 - val_acc: 0.8867\n",
      "Epoch 13/30\n",
      "7352/7352 [==============================] - 66s 9ms/step - loss: 0.2050 - acc: 0.9316 - val_loss: 0.3804 - val_acc: 0.8945\n",
      "Epoch 14/30\n",
      "7352/7352 [==============================] - 63s 9ms/step - loss: 0.1712 - acc: 0.9404 - val_loss: 0.4789 - val_acc: 0.8619\n",
      "Epoch 15/30\n",
      "7352/7352 [==============================] - 63s 9ms/step - loss: 0.1756 - acc: 0.9373 - val_loss: 0.3659 - val_acc: 0.8890\n",
      "Epoch 16/30\n",
      "7352/7352 [==============================] - 63s 9ms/step - loss: 0.1730 - acc: 0.9361 - val_loss: 0.4057 - val_acc: 0.8897\n",
      "Epoch 17/30\n",
      "7352/7352 [==============================] - 63s 9ms/step - loss: 0.1542 - acc: 0.9465 - val_loss: 0.3316 - val_acc: 0.8962\n",
      "Epoch 18/30\n",
      "7352/7352 [==============================] - 63s 9ms/step - loss: 0.1414 - acc: 0.9483 - val_loss: 0.3428 - val_acc: 0.9036\n",
      "Epoch 19/30\n",
      "7352/7352 [==============================] - 63s 9ms/step - loss: 0.1599 - acc: 0.9430 - val_loss: 0.4046 - val_acc: 0.8948\n",
      "Epoch 20/30\n",
      "7352/7352 [==============================] - 63s 9ms/step - loss: 0.1402 - acc: 0.9495 - val_loss: 0.2753 - val_acc: 0.9121\n",
      "Epoch 21/30\n",
      "7352/7352 [==============================] - 63s 9ms/step - loss: 0.1427 - acc: 0.9487 - val_loss: 0.3799 - val_acc: 0.8972\n",
      "Epoch 22/30\n",
      "7352/7352 [==============================] - 63s 9ms/step - loss: 0.1429 - acc: 0.9476 - val_loss: 0.3985 - val_acc: 0.8907\n",
      "Epoch 23/30\n",
      "7352/7352 [==============================] - 63s 9ms/step - loss: 0.1463 - acc: 0.9487 - val_loss: 0.3739 - val_acc: 0.9077\n",
      "Epoch 24/30\n",
      "7352/7352 [==============================] - 63s 9ms/step - loss: 0.1321 - acc: 0.9508 - val_loss: 0.4965 - val_acc: 0.8867\n",
      "Epoch 25/30\n",
      "7352/7352 [==============================] - 66s 9ms/step - loss: 0.1372 - acc: 0.9493 - val_loss: 0.2933 - val_acc: 0.9094\n",
      "Epoch 26/30\n",
      "7352/7352 [==============================] - 67s 9ms/step - loss: 0.1339 - acc: 0.9506 - val_loss: 0.3452 - val_acc: 0.9125\n",
      "Epoch 27/30\n",
      "7352/7352 [==============================] - 67s 9ms/step - loss: 0.1391 - acc: 0.9540 - val_loss: 0.3713 - val_acc: 0.9097\n",
      "Epoch 28/30\n",
      "7352/7352 [==============================] - 65s 9ms/step - loss: 0.1296 - acc: 0.9495 - val_loss: 0.4028 - val_acc: 0.9097\n",
      "Epoch 29/30\n",
      "7352/7352 [==============================] - 63s 9ms/step - loss: 0.1325 - acc: 0.9504 - val_loss: 0.3154 - val_acc: 0.9172\n",
      "Epoch 30/30\n",
      "7352/7352 [==============================] - 63s 9ms/step - loss: 0.1380 - acc: 0.9524 - val_loss: 0.4133 - val_acc: 0.9043\n",
      "Train on 7352 samples, validate on 2947 samples\n",
      "Epoch 1/35\n",
      "7352/7352 [==============================] - 63s 9ms/step - loss: 0.1319 - acc: 0.9517 - val_loss: 0.2891 - val_acc: 0.9111\n",
      "Epoch 2/35\n",
      "7352/7352 [==============================] - 62s 8ms/step - loss: 0.1399 - acc: 0.9509 - val_loss: 0.4286 - val_acc: 0.9128\n",
      "Epoch 3/35\n",
      "7352/7352 [==============================] - 63s 9ms/step - loss: 0.1276 - acc: 0.9514 - val_loss: 0.3751 - val_acc: 0.9209\n",
      "Epoch 4/35\n",
      "7352/7352 [==============================] - 63s 9ms/step - loss: 0.1224 - acc: 0.9533 - val_loss: 0.5431 - val_acc: 0.8972\n",
      "Epoch 5/35\n",
      "7352/7352 [==============================] - 63s 9ms/step - loss: 0.1254 - acc: 0.9517 - val_loss: 0.3037 - val_acc: 0.9206\n",
      "Epoch 6/35\n",
      "7352/7352 [==============================] - 63s 9ms/step - loss: 0.1327 - acc: 0.9524 - val_loss: 0.4945 - val_acc: 0.9060\n",
      "Epoch 7/35\n",
      "7352/7352 [==============================] - 62s 8ms/step - loss: 0.1354 - acc: 0.9542 - val_loss: 0.3356 - val_acc: 0.9196\n",
      "Epoch 8/35\n",
      "7352/7352 [==============================] - 63s 9ms/step - loss: 0.1383 - acc: 0.9499 - val_loss: 0.3667 - val_acc: 0.9158\n",
      "Epoch 9/35\n",
      "7352/7352 [==============================] - 63s 9ms/step - loss: 0.1357 - acc: 0.9498 - val_loss: 0.3214 - val_acc: 0.9152\n",
      "Epoch 10/35\n",
      "7352/7352 [==============================] - 63s 9ms/step - loss: 0.1232 - acc: 0.9548 - val_loss: 0.3969 - val_acc: 0.9101\n",
      "Epoch 11/35\n",
      "7352/7352 [==============================] - 63s 9ms/step - loss: 0.1494 - acc: 0.9484 - val_loss: 0.4104 - val_acc: 0.9016\n",
      "Epoch 12/35\n",
      "7352/7352 [==============================] - 63s 9ms/step - loss: 0.1521 - acc: 0.9425 - val_loss: 0.3111 - val_acc: 0.9162\n",
      "Epoch 13/35\n",
      "7352/7352 [==============================] - 119s 16ms/step - loss: 0.1369 - acc: 0.9538 - val_loss: 0.3683 - val_acc: 0.9033\n",
      "Epoch 14/35\n",
      "7352/7352 [==============================] - 51s 7ms/step - loss: 0.1457 - acc: 0.9525 - val_loss: 0.4587 - val_acc: 0.9101\n",
      "Epoch 15/35\n",
      "7352/7352 [==============================] - 55s 8ms/step - loss: 0.1349 - acc: 0.9538 - val_loss: 0.3229 - val_acc: 0.9165\n",
      "Epoch 16/35\n",
      "7352/7352 [==============================] - 67s 9ms/step - loss: 0.1291 - acc: 0.9525 - val_loss: 0.3446 - val_acc: 0.9192\n",
      "Epoch 17/35\n",
      "7352/7352 [==============================] - 64s 9ms/step - loss: 0.1491 - acc: 0.9498 - val_loss: 0.2722 - val_acc: 0.9203\n",
      "Epoch 18/35\n",
      "7352/7352 [==============================] - 63s 9ms/step - loss: 0.1484 - acc: 0.9484 - val_loss: 0.3219 - val_acc: 0.9186\n",
      "Epoch 19/35\n",
      "7352/7352 [==============================] - 64s 9ms/step - loss: 0.1078 - acc: 0.9585 - val_loss: 0.3123 - val_acc: 0.9070\n",
      "Epoch 20/35\n",
      "7352/7352 [==============================] - 63s 9ms/step - loss: 0.1187 - acc: 0.9540 - val_loss: 0.3290 - val_acc: 0.9186\n",
      "Epoch 21/35\n",
      "7352/7352 [==============================] - 65s 9ms/step - loss: 0.1260 - acc: 0.9517 - val_loss: 0.5228 - val_acc: 0.8941\n",
      "Epoch 22/35\n",
      "7352/7352 [==============================] - 64s 9ms/step - loss: 0.1266 - acc: 0.9505 - val_loss: 0.3544 - val_acc: 0.9158\n",
      "Epoch 23/35\n",
      "7352/7352 [==============================] - 62s 8ms/step - loss: 0.1160 - acc: 0.9561 - val_loss: 0.3918 - val_acc: 0.9240\n",
      "Epoch 24/35\n",
      "7352/7352 [==============================] - 63s 9ms/step - loss: 0.1292 - acc: 0.9509 - val_loss: 0.3568 - val_acc: 0.9152\n",
      "Epoch 25/35\n",
      "7352/7352 [==============================] - 63s 9ms/step - loss: 0.1162 - acc: 0.9509 - val_loss: 0.3766 - val_acc: 0.9199\n",
      "Epoch 26/35\n",
      "7352/7352 [==============================] - 63s 9ms/step - loss: 0.1201 - acc: 0.9520 - val_loss: 0.3544 - val_acc: 0.9087\n",
      "Epoch 27/35\n",
      "7352/7352 [==============================] - 63s 9ms/step - loss: 0.1203 - acc: 0.9558 - val_loss: 0.3370 - val_acc: 0.9203\n",
      "Epoch 28/35\n",
      "7352/7352 [==============================] - 63s 9ms/step - loss: 0.1248 - acc: 0.9504 - val_loss: 0.4656 - val_acc: 0.9128\n",
      "Epoch 29/35\n",
      "7352/7352 [==============================] - 63s 9ms/step - loss: 0.1267 - acc: 0.9513 - val_loss: 0.4626 - val_acc: 0.9087\n",
      "Epoch 30/35\n",
      "7352/7352 [==============================] - 63s 9ms/step - loss: 0.1351 - acc: 0.9491 - val_loss: 0.3185 - val_acc: 0.9179\n",
      "Epoch 31/35\n",
      "7352/7352 [==============================] - 63s 9ms/step - loss: 0.1116 - acc: 0.9553 - val_loss: 0.4757 - val_acc: 0.9009\n",
      "Epoch 32/35\n",
      "7352/7352 [==============================] - 63s 9ms/step - loss: 0.1267 - acc: 0.9516 - val_loss: 0.4567 - val_acc: 0.9131\n",
      "Epoch 33/35\n",
      "7352/7352 [==============================] - 63s 9ms/step - loss: 0.1115 - acc: 0.9543 - val_loss: 0.4567 - val_acc: 0.9111\n",
      "Epoch 34/35\n",
      "7352/7352 [==============================] - 63s 9ms/step - loss: 0.1166 - acc: 0.9521 - val_loss: 0.4699 - val_acc: 0.8941\n",
      "Epoch 35/35\n",
      "7352/7352 [==============================] - 62s 8ms/step - loss: 0.1388 - acc: 0.9527 - val_loss: 0.4668 - val_acc: 0.9169\n",
      "_________________________________________________________________\n",
      "Layer (type)                 Output Shape              Param #   \n",
      "=================================================================\n",
      "lstm_1 (LSTM)                (None, 32)                5376      \n",
      "_________________________________________________________________\n",
      "dropout_1 (Dropout)          (None, 32)                0         \n",
      "_________________________________________________________________\n",
      "dense_1 (Dense)              (None, 6)                 198       \n",
      "_________________________________________________________________\n",
      "dropout_2 (Dropout)          (None, 6)                 0         \n",
      "_________________________________________________________________\n",
      "dense_2 (Dense)              (None, 6)                 42        \n",
      "=================================================================\n"
     ]
    },
    {
     "name": "stderr",
     "output_type": "stream",
     "text": [
      "C:\\Users\\91889\\Anaconda3\\lib\\site-packages\\keras\\engine\\training.py:490: UserWarning: Discrepancy between trainable weights and collected trainable weights, did you set `model.trainable` without calling `model.compile` after ?\n",
      "  'Discrepancy between trainable weights and collected trainable'\n"
     ]
    },
    {
     "name": "stdout",
     "output_type": "stream",
     "text": [
      "Total params: 5,574\n",
      "Trainable params: 5,574\n",
      "Non-trainable params: 0\n",
      "_________________________________________________________________\n",
      "Train on 7352 samples, validate on 2947 samples\n",
      "Epoch 1/30\n",
      "7352/7352 [==============================] - 66s 9ms/step - loss: 1.6325 - acc: 0.5362 - val_loss: 1.5337 - val_acc: 0.7282\n",
      "Epoch 2/30\n",
      "7352/7352 [==============================] - 66s 9ms/step - loss: 1.3362 - acc: 0.6757 - val_loss: 1.4824 - val_acc: 0.5555\n",
      "Epoch 3/30\n",
      "7352/7352 [==============================] - 67s 9ms/step - loss: 0.9996 - acc: 0.7368 - val_loss: 0.8736 - val_acc: 0.7937\n",
      "Epoch 4/30\n",
      "7352/7352 [==============================] - 63s 9ms/step - loss: 0.7847 - acc: 0.8259 - val_loss: 0.7836 - val_acc: 0.8626\n",
      "Epoch 5/30\n",
      "7352/7352 [==============================] - 62s 8ms/step - loss: 0.6316 - acc: 0.8734 - val_loss: 0.5730 - val_acc: 0.8948\n",
      "Epoch 6/30\n",
      "7352/7352 [==============================] - 64s 9ms/step - loss: 0.5697 - acc: 0.8658 - val_loss: 0.7562 - val_acc: 0.8195\n",
      "Epoch 7/30\n",
      "7352/7352 [==============================] - 64s 9ms/step - loss: 0.4624 - acc: 0.8867 - val_loss: 0.6158 - val_acc: 0.8134\n",
      "Epoch 8/30\n",
      "7352/7352 [==============================] - 64s 9ms/step - loss: 0.4113 - acc: 0.8979 - val_loss: 0.4023 - val_acc: 0.8989\n",
      "Epoch 9/30\n",
      "7352/7352 [==============================] - 62s 8ms/step - loss: 0.3922 - acc: 0.8876 - val_loss: 0.4223 - val_acc: 0.8758\n",
      "Epoch 10/30\n",
      "7352/7352 [==============================] - 61s 8ms/step - loss: 0.3294 - acc: 0.9027 - val_loss: 0.3974 - val_acc: 0.8792\n",
      "Epoch 11/30\n",
      "7352/7352 [==============================] - 64s 9ms/step - loss: 0.3306 - acc: 0.9026 - val_loss: 0.3899 - val_acc: 0.9002\n",
      "Epoch 12/30\n",
      "7352/7352 [==============================] - 65s 9ms/step - loss: 0.3121 - acc: 0.8985 - val_loss: 0.3191 - val_acc: 0.9043\n",
      "Epoch 13/30\n",
      "7352/7352 [==============================] - 65s 9ms/step - loss: 0.2703 - acc: 0.9132 - val_loss: 0.3680 - val_acc: 0.8972\n",
      "Epoch 14/30\n",
      "7352/7352 [==============================] - 64s 9ms/step - loss: 0.2783 - acc: 0.9108 - val_loss: 0.3812 - val_acc: 0.9019\n",
      "Epoch 15/30\n",
      "7352/7352 [==============================] - 64s 9ms/step - loss: 0.2770 - acc: 0.9119 - val_loss: 0.3076 - val_acc: 0.9118\n",
      "Epoch 16/30\n",
      "7352/7352 [==============================] - 65s 9ms/step - loss: 0.2443 - acc: 0.9184 - val_loss: 0.3456 - val_acc: 0.8951\n",
      "Epoch 17/30\n",
      "7352/7352 [==============================] - 64s 9ms/step - loss: 0.2280 - acc: 0.9215 - val_loss: 0.3180 - val_acc: 0.9104\n",
      "Epoch 18/30\n",
      "7352/7352 [==============================] - 64s 9ms/step - loss: 0.2874 - acc: 0.9066 - val_loss: 0.3054 - val_acc: 0.9009\n",
      "Epoch 19/30\n",
      "7352/7352 [==============================] - 64s 9ms/step - loss: 0.2394 - acc: 0.9135 - val_loss: 0.3761 - val_acc: 0.9006\n",
      "Epoch 20/30\n",
      "7352/7352 [==============================] - 64s 9ms/step - loss: 0.2410 - acc: 0.9132 - val_loss: 0.3132 - val_acc: 0.9060\n",
      "Epoch 21/30\n",
      "7352/7352 [==============================] - 62s 8ms/step - loss: 0.2376 - acc: 0.9222 - val_loss: 0.3821 - val_acc: 0.9030\n",
      "Epoch 22/30\n",
      "7352/7352 [==============================] - 59s 8ms/step - loss: 0.2366 - acc: 0.9154 - val_loss: 0.4364 - val_acc: 0.8948\n",
      "Epoch 23/30\n",
      "7352/7352 [==============================] - 62s 8ms/step - loss: 0.2428 - acc: 0.9166 - val_loss: 0.4310 - val_acc: 0.9002\n",
      "Epoch 24/30\n",
      "7352/7352 [==============================] - 65s 9ms/step - loss: 0.2081 - acc: 0.9244 - val_loss: 0.4120 - val_acc: 0.9053\n",
      "Epoch 25/30\n",
      "7352/7352 [==============================] - 65s 9ms/step - loss: 0.2081 - acc: 0.9215 - val_loss: 0.3752 - val_acc: 0.9074\n",
      "Epoch 26/30\n",
      "7352/7352 [==============================] - 59s 8ms/step - loss: 0.2102 - acc: 0.9233 - val_loss: 0.4464 - val_acc: 0.8941\n",
      "Epoch 27/30\n",
      "7352/7352 [==============================] - 38s 5ms/step - loss: 0.1974 - acc: 0.9221 - val_loss: 0.4079 - val_acc: 0.8985\n",
      "Epoch 28/30\n",
      "7352/7352 [==============================] - 39s 5ms/step - loss: 0.2004 - acc: 0.9270 - val_loss: 0.3971 - val_acc: 0.9046\n",
      "Epoch 29/30\n",
      "7352/7352 [==============================] - 39s 5ms/step - loss: 0.2521 - acc: 0.9197 - val_loss: 0.4806 - val_acc: 0.8982\n",
      "Epoch 30/30\n",
      "7352/7352 [==============================] - 38s 5ms/step - loss: 0.1949 - acc: 0.9251 - val_loss: 0.4129 - val_acc: 0.9077\n",
      "Train on 7352 samples, validate on 2947 samples\n",
      "Epoch 1/35\n",
      "7352/7352 [==============================] - 40s 5ms/step - loss: 0.2656 - acc: 0.9184 - val_loss: 0.4454 - val_acc: 0.8884\n",
      "Epoch 2/35\n",
      "7352/7352 [==============================] - 39s 5ms/step - loss: 0.2172 - acc: 0.9218 - val_loss: 0.5448 - val_acc: 0.8880\n",
      "Epoch 3/35\n",
      "7352/7352 [==============================] - 39s 5ms/step - loss: 0.2568 - acc: 0.9212 - val_loss: 0.6677 - val_acc: 0.8819\n",
      "Epoch 4/35\n",
      "7352/7352 [==============================] - 39s 5ms/step - loss: 0.2757 - acc: 0.9127 - val_loss: 0.5482 - val_acc: 0.8948\n",
      "Epoch 5/35\n",
      "7352/7352 [==============================] - 39s 5ms/step - loss: 0.2919 - acc: 0.9177 - val_loss: 0.9556 - val_acc: 0.8748\n",
      "Epoch 6/35\n",
      "7352/7352 [==============================] - 39s 5ms/step - loss: 0.2182 - acc: 0.9236 - val_loss: 0.6009 - val_acc: 0.8887\n",
      "Epoch 7/35\n",
      "7352/7352 [==============================] - 39s 5ms/step - loss: 0.2106 - acc: 0.9241 - val_loss: 0.4287 - val_acc: 0.8918\n",
      "Epoch 8/35\n",
      "7352/7352 [==============================] - 39s 5ms/step - loss: 0.1998 - acc: 0.9227 - val_loss: 0.6214 - val_acc: 0.8802\n",
      "Epoch 9/35\n",
      "7352/7352 [==============================] - 41s 6ms/step - loss: 0.2205 - acc: 0.9237 - val_loss: 0.4397 - val_acc: 0.8985\n",
      "Epoch 10/35\n",
      "7352/7352 [==============================] - 40s 5ms/step - loss: 0.2087 - acc: 0.9230 - val_loss: 0.4133 - val_acc: 0.9084\n",
      "Epoch 11/35\n",
      "7352/7352 [==============================] - 46s 6ms/step - loss: 0.2324 - acc: 0.9176 - val_loss: 0.4573 - val_acc: 0.8918\n",
      "Epoch 12/35\n",
      "7352/7352 [==============================] - 48s 7ms/step - loss: 0.1865 - acc: 0.9260 - val_loss: 0.5051 - val_acc: 0.8928\n",
      "Epoch 13/35\n",
      "7352/7352 [==============================] - 50s 7ms/step - loss: 0.2021 - acc: 0.9304 - val_loss: 0.5538 - val_acc: 0.8914\n",
      "Epoch 14/35\n",
      "7352/7352 [==============================] - 50s 7ms/step - loss: 0.2113 - acc: 0.9278 - val_loss: 0.6614 - val_acc: 0.8873\n",
      "Epoch 15/35\n",
      "7352/7352 [==============================] - 45s 6ms/step - loss: 0.2041 - acc: 0.9223 - val_loss: 0.4642 - val_acc: 0.8951\n",
      "Epoch 16/35\n",
      "7352/7352 [==============================] - 49s 7ms/step - loss: 0.2114 - acc: 0.9200 - val_loss: 0.4983 - val_acc: 0.8877\n",
      "Epoch 17/35\n",
      "7352/7352 [==============================] - 46s 6ms/step - loss: 0.1881 - acc: 0.9251 - val_loss: 0.4763 - val_acc: 0.8972\n",
      "Epoch 18/35\n",
      "7352/7352 [==============================] - 48s 6ms/step - loss: 0.2099 - acc: 0.9225 - val_loss: 0.6644 - val_acc: 0.8897\n",
      "Epoch 19/35\n",
      "7352/7352 [==============================] - 50s 7ms/step - loss: 0.2327 - acc: 0.9230 - val_loss: 0.6801 - val_acc: 0.8663\n",
      "Epoch 20/35\n",
      "7352/7352 [==============================] - 50s 7ms/step - loss: 0.1954 - acc: 0.9310 - val_loss: 0.5350 - val_acc: 0.8924\n",
      "Epoch 21/35\n",
      "7352/7352 [==============================] - 51s 7ms/step - loss: 0.1844 - acc: 0.9354 - val_loss: 0.6423 - val_acc: 0.8856\n",
      "Epoch 22/35\n",
      "7352/7352 [==============================] - 43s 6ms/step - loss: 0.2203 - acc: 0.9289 - val_loss: 0.5612 - val_acc: 0.8867\n",
      "Epoch 23/35\n",
      "7352/7352 [==============================] - 40s 5ms/step - loss: 0.2157 - acc: 0.9317 - val_loss: 0.5562 - val_acc: 0.8856\n",
      "Epoch 24/35\n",
      "7352/7352 [==============================] - 38s 5ms/step - loss: 0.2099 - acc: 0.9308 - val_loss: 0.5014 - val_acc: 0.8955\n",
      "Epoch 25/35\n",
      "7352/7352 [==============================] - 39s 5ms/step - loss: 0.2034 - acc: 0.9286 - val_loss: 0.6123 - val_acc: 0.8880\n",
      "Epoch 26/35\n",
      "7352/7352 [==============================] - 39s 5ms/step - loss: 0.1953 - acc: 0.9355 - val_loss: 0.5993 - val_acc: 0.8863\n",
      "Epoch 27/35\n",
      "7352/7352 [==============================] - 38s 5ms/step - loss: 0.1791 - acc: 0.9365 - val_loss: 0.6875 - val_acc: 0.8856\n",
      "Epoch 28/35\n",
      "7352/7352 [==============================] - 40s 5ms/step - loss: 0.2664 - acc: 0.9267 - val_loss: 0.6442 - val_acc: 0.8938\n",
      "Epoch 29/35\n",
      "7352/7352 [==============================] - 38s 5ms/step - loss: 0.2262 - acc: 0.9334 - val_loss: 0.6670 - val_acc: 0.8778\n",
      "Epoch 30/35\n",
      "7352/7352 [==============================] - 37s 5ms/step - loss: 0.2079 - acc: 0.9365 - val_loss: 0.6738 - val_acc: 0.8863\n",
      "Epoch 31/35\n",
      "7352/7352 [==============================] - 40s 5ms/step - loss: 0.1947 - acc: 0.9347 - val_loss: 0.5537 - val_acc: 0.8918\n",
      "Epoch 32/35\n",
      "7352/7352 [==============================] - 38s 5ms/step - loss: 0.1992 - acc: 0.9393 - val_loss: 0.5463 - val_acc: 0.8863\n",
      "Epoch 33/35\n",
      "7352/7352 [==============================] - 39s 5ms/step - loss: nan - acc: 0.6834 - val_loss: nan - val_acc: 0.1683\n",
      "Epoch 34/35\n",
      "7352/7352 [==============================] - 39s 5ms/step - loss: nan - acc: 0.1668 - val_loss: nan - val_acc: 0.1683\n",
      "Epoch 35/35\n",
      "7352/7352 [==============================] - 38s 5ms/step - loss: nan - acc: 0.1668 - val_loss: nan - val_acc: 0.1683\n"
     ]
    }
   ],
   "source": [
    "# Initiliazing the sequential model\n",
    "model = Sequential()\n",
    "# Configuring the parameters\n",
    "model.add(LSTM(n_hidden, input_shape=(timesteps, input_dim)))\n",
    "# Adding a dropout layer\n",
    "d=[0.25 ** x for x in range(1,3)]\n",
    "for i in d:\n",
    "    model.add(Dropout(i))    \n",
    "    # Adding a dense output layer with sigmoid activation\n",
    "    model.add(Dense(n_classes, activation='sigmoid'))\n",
    "    model.summary()\n",
    "    # Compiling the model\n",
    "    model.compile(loss='categorical_crossentropy',optimizer='rmsprop',metrics=['accuracy'])\n",
    "    # Training the model\n",
    "    for j in epochs:\n",
    "        model.fit(X_train,Y_train,batch_size=batch_size,validation_data=(X_test, Y_test),epochs=j)\n",
    "        \n",
    "    \n",
    "\n",
    "\n"
   ]
  },
  {
   "cell_type": "code",
   "execution_count": 18,
   "metadata": {},
   "outputs": [
    {
     "name": "stdout",
     "output_type": "stream",
     "text": [
      "_________________________________________________________________\n",
      "Layer (type)                 Output Shape              Param #   \n",
      "=================================================================\n",
      "lstm_2 (LSTM)                (None, 32)                5376      \n",
      "_________________________________________________________________\n",
      "dropout_3 (Dropout)          (None, 32)                0         \n",
      "_________________________________________________________________\n",
      "dense_3 (Dense)              (None, 6)                 198       \n",
      "=================================================================\n",
      "Total params: 5,574\n",
      "Trainable params: 5,574\n",
      "Non-trainable params: 0\n",
      "_________________________________________________________________\n"
     ]
    }
   ],
   "source": [
    "#best epoch - 30\n",
    "#best dropout - 0.5\n",
    "\n",
    "# Initiliazing the sequential model\n",
    "model = Sequential()\n",
    "# Configuring the parameters\n",
    "model.add(LSTM(n_hidden, input_shape=(timesteps, input_dim)))\n",
    "# Adding a dropout layer\n",
    "model.add(Dropout(0.5))    \n",
    "# Adding a dense output layer with sigmoid activation\n",
    "model.add(Dense(n_classes, activation='sigmoid'))\n",
    "model.summary()"
   ]
  },
  {
   "cell_type": "code",
   "execution_count": 19,
   "metadata": {},
   "outputs": [],
   "source": [
    "# Compiling the model\n",
    "model.compile(loss='categorical_crossentropy',\n",
    "              optimizer='rmsprop',\n",
    "              metrics=['accuracy'])"
   ]
  },
  {
   "cell_type": "code",
   "execution_count": 20,
   "metadata": {},
   "outputs": [
    {
     "name": "stdout",
     "output_type": "stream",
     "text": [
      "Train on 7352 samples, validate on 2947 samples\n",
      "Epoch 1/30\n",
      "7352/7352 [==============================] - 34s 5ms/step - loss: 1.2991 - acc: 0.4637 - val_loss: 1.3009 - val_acc: 0.3970\n",
      "Epoch 2/30\n",
      "7352/7352 [==============================] - 35s 5ms/step - loss: 1.0011 - acc: 0.5745 - val_loss: 0.9122 - val_acc: 0.5711\n",
      "Epoch 3/30\n",
      "7352/7352 [==============================] - 33s 4ms/step - loss: 0.9219 - acc: 0.5812 - val_loss: 0.8607 - val_acc: 0.6233\n",
      "Epoch 4/30\n",
      "7352/7352 [==============================] - 34s 5ms/step - loss: 0.7881 - acc: 0.6326 - val_loss: 0.7765 - val_acc: 0.6183\n",
      "Epoch 5/30\n",
      "7352/7352 [==============================] - 35s 5ms/step - loss: 0.7401 - acc: 0.6549 - val_loss: 0.7985 - val_acc: 0.6057\n",
      "Epoch 6/30\n",
      "7352/7352 [==============================] - 34s 5ms/step - loss: 0.7302 - acc: 0.6590 - val_loss: 0.8806 - val_acc: 0.5409\n",
      "Epoch 7/30\n",
      "7352/7352 [==============================] - 35s 5ms/step - loss: 0.6922 - acc: 0.6869 - val_loss: 0.7721 - val_acc: 0.6522\n",
      "Epoch 8/30\n",
      "7352/7352 [==============================] - 33s 4ms/step - loss: 0.6271 - acc: 0.7378 - val_loss: 0.6743 - val_acc: 0.7509\n",
      "Epoch 9/30\n",
      "7352/7352 [==============================] - 33s 5ms/step - loss: 0.6233 - acc: 0.7465 - val_loss: 0.6191 - val_acc: 0.7672\n",
      "Epoch 10/30\n",
      "7352/7352 [==============================] - 34s 5ms/step - loss: 0.5495 - acc: 0.7882 - val_loss: 0.5562 - val_acc: 0.7760\n",
      "Epoch 11/30\n",
      "7352/7352 [==============================] - 33s 4ms/step - loss: 0.4937 - acc: 0.8220 - val_loss: 0.4978 - val_acc: 0.8364\n",
      "Epoch 12/30\n",
      "7352/7352 [==============================] - 33s 4ms/step - loss: 0.4388 - acc: 0.8479 - val_loss: 0.5661 - val_acc: 0.7638\n",
      "Epoch 13/30\n",
      "7352/7352 [==============================] - 34s 5ms/step - loss: 0.3837 - acc: 0.8798 - val_loss: 0.3987 - val_acc: 0.8622\n",
      "Epoch 14/30\n",
      "7352/7352 [==============================] - 33s 5ms/step - loss: 0.3036 - acc: 0.9044 - val_loss: 0.4895 - val_acc: 0.8453\n",
      "Epoch 15/30\n",
      "7352/7352 [==============================] - 34s 5ms/step - loss: 0.2660 - acc: 0.9215 - val_loss: 0.3740 - val_acc: 0.8863\n",
      "Epoch 16/30\n",
      "7352/7352 [==============================] - 35s 5ms/step - loss: 0.2477 - acc: 0.9230 - val_loss: 0.4130 - val_acc: 0.8734\n",
      "Epoch 17/30\n",
      "7352/7352 [==============================] - 34s 5ms/step - loss: 0.2327 - acc: 0.9259 - val_loss: 0.4238 - val_acc: 0.8761\n",
      "Epoch 18/30\n",
      "7352/7352 [==============================] - 34s 5ms/step - loss: 0.2041 - acc: 0.9357 - val_loss: 0.3894 - val_acc: 0.8989\n",
      "Epoch 19/30\n",
      "7352/7352 [==============================] - 33s 5ms/step - loss: 0.2445 - acc: 0.9256 - val_loss: 0.3550 - val_acc: 0.9070\n",
      "Epoch 20/30\n",
      "7352/7352 [==============================] - 34s 5ms/step - loss: 0.1907 - acc: 0.9344 - val_loss: 0.5955 - val_acc: 0.8731\n",
      "Epoch 21/30\n",
      "7352/7352 [==============================] - 37s 5ms/step - loss: 0.2015 - acc: 0.9346 - val_loss: 0.4808 - val_acc: 0.9002\n",
      "Epoch 22/30\n",
      "7352/7352 [==============================] - 35s 5ms/step - loss: 0.1884 - acc: 0.9353 - val_loss: 0.2950 - val_acc: 0.9162\n",
      "Epoch 23/30\n",
      "7352/7352 [==============================] - 38s 5ms/step - loss: 0.1666 - acc: 0.9408 - val_loss: 0.3402 - val_acc: 0.9067\n",
      "Epoch 24/30\n",
      "7352/7352 [==============================] - 39s 5ms/step - loss: 0.1663 - acc: 0.9408 - val_loss: 0.3748 - val_acc: 0.9084\n",
      "Epoch 25/30\n",
      "7352/7352 [==============================] - 37s 5ms/step - loss: 0.1747 - acc: 0.9402 - val_loss: 0.3651 - val_acc: 0.9050\n",
      "Epoch 26/30\n",
      "7352/7352 [==============================] - 40s 5ms/step - loss: 0.1672 - acc: 0.9415 - val_loss: 0.4307 - val_acc: 0.9009\n",
      "Epoch 27/30\n",
      "7352/7352 [==============================] - 40s 5ms/step - loss: 0.1707 - acc: 0.9433 - val_loss: 0.7672 - val_acc: 0.8751\n",
      "Epoch 28/30\n",
      "7352/7352 [==============================] - 38s 5ms/step - loss: 0.1568 - acc: 0.9441 - val_loss: 0.5835 - val_acc: 0.8941\n",
      "Epoch 29/30\n",
      "7352/7352 [==============================] - 39s 5ms/step - loss: 0.1450 - acc: 0.9474 - val_loss: 0.8458 - val_acc: 0.8480\n",
      "Epoch 30/30\n",
      "7352/7352 [==============================] - 38s 5ms/step - loss: 0.1795 - acc: 0.9411 - val_loss: 0.6074 - val_acc: 0.8914\n"
     ]
    },
    {
     "data": {
      "text/plain": [
       "<keras.callbacks.History at 0x1c22709cd68>"
      ]
     },
     "execution_count": 20,
     "metadata": {},
     "output_type": "execute_result"
    }
   ],
   "source": [
    "# Training the model\n",
    "model.fit(X_train,\n",
    "          Y_train,\n",
    "          batch_size=batch_size,\n",
    "          validation_data=(X_test, Y_test),\n",
    "          epochs=30)"
   ]
  },
  {
   "cell_type": "code",
   "execution_count": 21,
   "metadata": {},
   "outputs": [
    {
     "name": "stdout",
     "output_type": "stream",
     "text": [
      "Pred                LAYING  SITTING  STANDING  WALKING  WALKING_DOWNSTAIRS  \\\n",
      "True                                                                         \n",
      "LAYING                 515        0        22        0                   0   \n",
      "SITTING                  1      374       114        1                   1   \n",
      "STANDING                 0       76       454        2                   0   \n",
      "WALKING                  0        0         0      466                  28   \n",
      "WALKING_DOWNSTAIRS       0        0         0        1                 415   \n",
      "WALKING_UPSTAIRS         0        0         0       50                  18   \n",
      "\n",
      "Pred                WALKING_UPSTAIRS  \n",
      "True                                  \n",
      "LAYING                             0  \n",
      "SITTING                            0  \n",
      "STANDING                           0  \n",
      "WALKING                            2  \n",
      "WALKING_DOWNSTAIRS                 4  \n",
      "WALKING_UPSTAIRS                 403  \n"
     ]
    }
   ],
   "source": [
    "# Confusion Matrix\n",
    "print(confusion_matrix(Y_test, model.predict(X_test)))"
   ]
  },
  {
   "cell_type": "code",
   "execution_count": 22,
   "metadata": {},
   "outputs": [
    {
     "name": "stdout",
     "output_type": "stream",
     "text": [
      "2947/2947 [==============================] - 2s 583us/step\n"
     ]
    }
   ],
   "source": [
    "score = model.evaluate(X_test, Y_test)"
   ]
  },
  {
   "cell_type": "code",
   "execution_count": 23,
   "metadata": {},
   "outputs": [
    {
     "data": {
      "text/plain": [
       "[0.6073751995968245, 0.8914149983033594]"
      ]
     },
     "execution_count": 23,
     "metadata": {},
     "output_type": "execute_result"
    }
   ],
   "source": [
    "score"
   ]
  },
  {
   "cell_type": "code",
   "execution_count": 24,
   "metadata": {},
   "outputs": [
    {
     "name": "stdout",
     "output_type": "stream",
     "text": [
      "_________________________________________________________________\n",
      "Layer (type)                 Output Shape              Param #   \n",
      "=================================================================\n",
      "lstm_3 (LSTM)                (None, 128, 32)           5376      \n",
      "_________________________________________________________________\n",
      "lstm_4 (LSTM)                (None, 32)                8320      \n",
      "_________________________________________________________________\n",
      "dropout_4 (Dropout)          (None, 32)                0         \n",
      "_________________________________________________________________\n",
      "dense_4 (Dense)              (None, 6)                 198       \n",
      "=================================================================\n",
      "Total params: 13,894\n",
      "Trainable params: 13,894\n",
      "Non-trainable params: 0\n",
      "_________________________________________________________________\n"
     ]
    }
   ],
   "source": [
    "# Initiliazing the sequential model\n",
    "model = Sequential()\n",
    "# Configuring the parameters\n",
    "model.add(LSTM(n_hidden, return_sequences=True, input_shape=(timesteps, input_dim)))\n",
    "model.add(LSTM(32)) \n",
    "# Adding a dropout layer\n",
    "model.add(Dropout(0.5))    \n",
    "# Adding a dense output layer with sigmoid activation\n",
    "model.add(Dense(n_classes, activation='sigmoid'))\n",
    "model.summary()\n",
    "\n",
    "        "
   ]
  },
  {
   "cell_type": "code",
   "execution_count": 25,
   "metadata": {},
   "outputs": [
    {
     "name": "stdout",
     "output_type": "stream",
     "text": [
      "Train on 7352 samples, validate on 2947 samples\n",
      "Epoch 1/30\n",
      "7352/7352 [==============================] - 81s 11ms/step - loss: 1.1426 - acc: 0.4976 - val_loss: 1.3196 - val_acc: 0.3957\n",
      "Epoch 2/30\n",
      "7352/7352 [==============================] - 79s 11ms/step - loss: 0.7830 - acc: 0.6495 - val_loss: 0.7205 - val_acc: 0.6902\n",
      "Epoch 3/30\n",
      "7352/7352 [==============================] - 81s 11ms/step - loss: 0.6871 - acc: 0.7265 - val_loss: 0.6179 - val_acc: 0.7472\n",
      "Epoch 4/30\n",
      "7352/7352 [==============================] - 82s 11ms/step - loss: 0.5521 - acc: 0.7752 - val_loss: 0.5370 - val_acc: 0.7523\n",
      "Epoch 5/30\n",
      "7352/7352 [==============================] - 79s 11ms/step - loss: 0.4696 - acc: 0.7856 - val_loss: 0.6007 - val_acc: 0.7387\n",
      "Epoch 6/30\n",
      "7352/7352 [==============================] - 79s 11ms/step - loss: 0.4396 - acc: 0.7957 - val_loss: 0.4813 - val_acc: 0.7635\n",
      "Epoch 7/30\n",
      "7352/7352 [==============================] - 80s 11ms/step - loss: 0.3736 - acc: 0.8502 - val_loss: 0.5171 - val_acc: 0.8134\n",
      "Epoch 8/30\n",
      "7352/7352 [==============================] - 81s 11ms/step - loss: 0.3116 - acc: 0.9049 - val_loss: 0.3850 - val_acc: 0.8823\n",
      "Epoch 9/30\n",
      "7352/7352 [==============================] - 83s 11ms/step - loss: 0.2514 - acc: 0.9301 - val_loss: 0.5108 - val_acc: 0.8558\n",
      "Epoch 10/30\n",
      "7352/7352 [==============================] - 80s 11ms/step - loss: 0.2558 - acc: 0.9272 - val_loss: 0.4096 - val_acc: 0.8829\n",
      "Epoch 11/30\n",
      "7352/7352 [==============================] - 80s 11ms/step - loss: 0.2132 - acc: 0.9374 - val_loss: 0.4587 - val_acc: 0.8711\n",
      "Epoch 12/30\n",
      "7352/7352 [==============================] - 80s 11ms/step - loss: 0.1999 - acc: 0.9377 - val_loss: 0.4189 - val_acc: 0.8955\n",
      "Epoch 13/30\n",
      "7352/7352 [==============================] - 88s 12ms/step - loss: 0.1995 - acc: 0.9377 - val_loss: 0.3359 - val_acc: 0.9097\n",
      "Epoch 14/30\n",
      "7352/7352 [==============================] - 81s 11ms/step - loss: 0.1758 - acc: 0.9456 - val_loss: 0.3849 - val_acc: 0.8989\n",
      "Epoch 15/30\n",
      "7352/7352 [==============================] - 79s 11ms/step - loss: 0.1738 - acc: 0.9465 - val_loss: 0.4413 - val_acc: 0.8901\n",
      "Epoch 16/30\n",
      "7352/7352 [==============================] - 75s 10ms/step - loss: 0.1898 - acc: 0.9468 - val_loss: 0.5130 - val_acc: 0.8833\n",
      "Epoch 17/30\n",
      "7352/7352 [==============================] - 74s 10ms/step - loss: 0.1581 - acc: 0.9482 - val_loss: 0.3710 - val_acc: 0.8938\n",
      "Epoch 18/30\n",
      "7352/7352 [==============================] - 82s 11ms/step - loss: 0.1818 - acc: 0.9468 - val_loss: 0.5476 - val_acc: 0.8931\n",
      "Epoch 19/30\n",
      "7352/7352 [==============================] - 80s 11ms/step - loss: 0.1565 - acc: 0.9495 - val_loss: 0.4438 - val_acc: 0.9013\n",
      "Epoch 20/30\n",
      "7352/7352 [==============================] - 76s 10ms/step - loss: 0.1670 - acc: 0.9505 - val_loss: 0.4512 - val_acc: 0.8853\n",
      "Epoch 21/30\n",
      "7352/7352 [==============================] - 79s 11ms/step - loss: 0.1628 - acc: 0.9476 - val_loss: 0.4359 - val_acc: 0.8968\n",
      "Epoch 22/30\n",
      "7352/7352 [==============================] - 79s 11ms/step - loss: 0.1662 - acc: 0.9445 - val_loss: 0.3748 - val_acc: 0.9084\n",
      "Epoch 23/30\n",
      "7352/7352 [==============================] - 78s 11ms/step - loss: 0.1529 - acc: 0.9489 - val_loss: 0.7717 - val_acc: 0.8836\n",
      "Epoch 24/30\n",
      "7352/7352 [==============================] - 77s 10ms/step - loss: 0.1466 - acc: 0.9506 - val_loss: 0.4377 - val_acc: 0.9013\n",
      "Epoch 25/30\n",
      "7352/7352 [==============================] - 77s 11ms/step - loss: 0.1628 - acc: 0.9438 - val_loss: 0.6697 - val_acc: 0.8768\n",
      "Epoch 26/30\n",
      "7352/7352 [==============================] - 77s 10ms/step - loss: 0.1552 - acc: 0.9491 - val_loss: 0.4886 - val_acc: 0.9040\n",
      "Epoch 27/30\n",
      "7352/7352 [==============================] - 82s 11ms/step - loss: 0.1562 - acc: 0.9472 - val_loss: 0.4844 - val_acc: 0.9013\n",
      "Epoch 28/30\n",
      "7352/7352 [==============================] - 78s 11ms/step - loss: 0.1893 - acc: 0.9429 - val_loss: 0.5683 - val_acc: 0.8853\n",
      "Epoch 29/30\n",
      "7352/7352 [==============================] - 78s 11ms/step - loss: 0.1460 - acc: 0.9491 - val_loss: 0.5265 - val_acc: 0.9046\n",
      "Epoch 30/30\n",
      "7352/7352 [==============================] - 77s 11ms/step - loss: 0.1385 - acc: 0.9493 - val_loss: 0.7224 - val_acc: 0.8873\n"
     ]
    },
    {
     "data": {
      "text/plain": [
       "<keras.callbacks.History at 0x1c235239f28>"
      ]
     },
     "execution_count": 25,
     "metadata": {},
     "output_type": "execute_result"
    }
   ],
   "source": [
    "# Compiling the model\n",
    "model.compile(loss='categorical_crossentropy',optimizer='rmsprop',metrics=['accuracy'])\n",
    "# Training the model\n",
    "model.fit(X_train,Y_train,batch_size=batch_size,validation_data=(X_test, Y_test),epochs=30)"
   ]
  },
  {
   "cell_type": "code",
   "execution_count": 26,
   "metadata": {},
   "outputs": [
    {
     "name": "stdout",
     "output_type": "stream",
     "text": [
      "Pred                LAYING  SITTING  STANDING  WALKING  WALKING_DOWNSTAIRS  \\\n",
      "True                                                                         \n",
      "LAYING                 508        2        27        0                   0   \n",
      "SITTING                  0      388       103        0                   0   \n",
      "STANDING                 0      119       413        0                   0   \n",
      "WALKING                  0        2         0      454                   6   \n",
      "WALKING_DOWNSTAIRS       0        1         0        2                 413   \n",
      "WALKING_UPSTAIRS         0       17         0        8                   7   \n",
      "\n",
      "Pred                WALKING_UPSTAIRS  \n",
      "True                                  \n",
      "LAYING                             0  \n",
      "SITTING                            0  \n",
      "STANDING                           0  \n",
      "WALKING                           34  \n",
      "WALKING_DOWNSTAIRS                 4  \n",
      "WALKING_UPSTAIRS                 439  \n",
      "2947/2947 [==============================] - 3s 969us/step\n"
     ]
    },
    {
     "data": {
      "text/plain": [
       "[0.7223594442489476, 0.8873430607397353]"
      ]
     },
     "execution_count": 26,
     "metadata": {},
     "output_type": "execute_result"
    }
   ],
   "source": [
    "# Confusion Matrix\n",
    "print(confusion_matrix(Y_test, model.predict(X_test)))\n",
    "score = model.evaluate(X_test, Y_test)\n",
    "score"
   ]
  },
  {
   "cell_type": "markdown",
   "metadata": {},
   "source": [
    "# 2) 64 LSTM (1 layer) with rmsprop optimizer"
   ]
  },
  {
   "cell_type": "code",
   "execution_count": 28,
   "metadata": {},
   "outputs": [
    {
     "name": "stdout",
     "output_type": "stream",
     "text": [
      "_________________________________________________________________\n",
      "Layer (type)                 Output Shape              Param #   \n",
      "=================================================================\n",
      "lstm_6 (LSTM)                (None, 64)                18944     \n",
      "_________________________________________________________________\n",
      "dropout_6 (Dropout)          (None, 64)                0         \n",
      "_________________________________________________________________\n",
      "dense_6 (Dense)              (None, 6)                 390       \n",
      "=================================================================\n",
      "Total params: 19,334\n",
      "Trainable params: 19,334\n",
      "Non-trainable params: 0\n",
      "_________________________________________________________________\n",
      "Train on 7352 samples, validate on 2947 samples\n",
      "Epoch 1/30\n",
      "7352/7352 [==============================] - 45s 6ms/step - loss: 1.2681 - acc: 0.4524 - val_loss: 1.2533 - val_acc: 0.4873\n",
      "Epoch 2/30\n",
      "7352/7352 [==============================] - 47s 6ms/step - loss: 1.0585 - acc: 0.5656 - val_loss: 0.9467 - val_acc: 0.5724\n",
      "Epoch 3/30\n",
      "7352/7352 [==============================] - 49s 7ms/step - loss: 0.8411 - acc: 0.6477 - val_loss: 0.6797 - val_acc: 0.6895\n",
      "Epoch 4/30\n",
      "7352/7352 [==============================] - 46s 6ms/step - loss: 0.6814 - acc: 0.7123 - val_loss: 0.6295 - val_acc: 0.7448\n",
      "Epoch 5/30\n",
      "7352/7352 [==============================] - 45s 6ms/step - loss: 0.5627 - acc: 0.7904 - val_loss: 0.6036 - val_acc: 0.7957\n",
      "Epoch 6/30\n",
      "7352/7352 [==============================] - 47s 6ms/step - loss: 0.4478 - acc: 0.8500 - val_loss: 0.5231 - val_acc: 0.7913\n",
      "Epoch 7/30\n",
      "7352/7352 [==============================] - 46s 6ms/step - loss: 0.3339 - acc: 0.8917 - val_loss: 0.3636 - val_acc: 0.8683\n",
      "Epoch 8/30\n",
      "7352/7352 [==============================] - 45s 6ms/step - loss: 0.2617 - acc: 0.9168 - val_loss: 0.3426 - val_acc: 0.8823\n",
      "Epoch 9/30\n",
      "7352/7352 [==============================] - 46s 6ms/step - loss: 0.2287 - acc: 0.9233 - val_loss: 0.3610 - val_acc: 0.8911\n",
      "Epoch 10/30\n",
      "7352/7352 [==============================] - 47s 6ms/step - loss: 0.2148 - acc: 0.9274 - val_loss: 0.3710 - val_acc: 0.8856\n",
      "Epoch 11/30\n",
      "7352/7352 [==============================] - 46s 6ms/step - loss: 0.1917 - acc: 0.9338 - val_loss: 0.3605 - val_acc: 0.9002\n",
      "Epoch 12/30\n",
      "7352/7352 [==============================] - 45s 6ms/step - loss: 0.1916 - acc: 0.9376 - val_loss: 0.3142 - val_acc: 0.9026\n",
      "Epoch 13/30\n",
      "7352/7352 [==============================] - 45s 6ms/step - loss: 0.1834 - acc: 0.9368 - val_loss: 0.3378 - val_acc: 0.8999\n",
      "Epoch 14/30\n",
      "7352/7352 [==============================] - 45s 6ms/step - loss: 0.1773 - acc: 0.9411 - val_loss: 0.2768 - val_acc: 0.9121\n",
      "Epoch 15/30\n",
      "7352/7352 [==============================] - 46s 6ms/step - loss: 0.1663 - acc: 0.9450 - val_loss: 0.3616 - val_acc: 0.9060\n",
      "Epoch 16/30\n",
      "7352/7352 [==============================] - 46s 6ms/step - loss: 0.4287 - acc: 0.9042 - val_loss: 0.7549 - val_acc: 0.8385\n",
      "Epoch 17/30\n",
      "7352/7352 [==============================] - 45s 6ms/step - loss: 0.1740 - acc: 0.9391 - val_loss: 0.3088 - val_acc: 0.9016\n",
      "Epoch 18/30\n",
      "7352/7352 [==============================] - 45s 6ms/step - loss: 0.1506 - acc: 0.9470 - val_loss: 0.4236 - val_acc: 0.9016\n",
      "Epoch 19/30\n",
      "7352/7352 [==============================] - 46s 6ms/step - loss: 0.1440 - acc: 0.9452 - val_loss: 0.3814 - val_acc: 0.9040\n",
      "Epoch 20/30\n",
      "7352/7352 [==============================] - 45s 6ms/step - loss: 0.1614 - acc: 0.9460 - val_loss: 0.4843 - val_acc: 0.8996\n",
      "Epoch 21/30\n",
      "7352/7352 [==============================] - 46s 6ms/step - loss: 0.1568 - acc: 0.9449 - val_loss: 0.5144 - val_acc: 0.8951\n",
      "Epoch 22/30\n",
      "7352/7352 [==============================] - 46s 6ms/step - loss: 0.1398 - acc: 0.9510 - val_loss: 0.5245 - val_acc: 0.8996\n",
      "Epoch 23/30\n",
      "7352/7352 [==============================] - 47s 6ms/step - loss: 0.1469 - acc: 0.9446 - val_loss: 0.3501 - val_acc: 0.9019\n",
      "Epoch 24/30\n",
      "7352/7352 [==============================] - 45s 6ms/step - loss: 0.1539 - acc: 0.9474 - val_loss: 0.3466 - val_acc: 0.9016\n",
      "Epoch 25/30\n",
      "7352/7352 [==============================] - 47s 6ms/step - loss: 0.1194 - acc: 0.9520 - val_loss: 0.8696 - val_acc: 0.8748\n",
      "Epoch 26/30\n",
      "7352/7352 [==============================] - 46s 6ms/step - loss: 0.1359 - acc: 0.9512 - val_loss: 0.5771 - val_acc: 0.8941\n",
      "Epoch 27/30\n",
      "7352/7352 [==============================] - 48s 6ms/step - loss: 0.1412 - acc: 0.9478 - val_loss: 0.5973 - val_acc: 0.9009\n",
      "Epoch 28/30\n",
      "7352/7352 [==============================] - 51s 7ms/step - loss: 0.1451 - acc: 0.9509 - val_loss: 0.4546 - val_acc: 0.9053\n",
      "Epoch 29/30\n",
      "7352/7352 [==============================] - 50s 7ms/step - loss: 0.1284 - acc: 0.9514 - val_loss: 0.4371 - val_acc: 0.9040\n",
      "Epoch 30/30\n",
      "7352/7352 [==============================] - 49s 7ms/step - loss: 0.1463 - acc: 0.9482 - val_loss: 0.3998 - val_acc: 0.8911\n"
     ]
    },
    {
     "data": {
      "text/plain": [
       "<keras.callbacks.History at 0x1c23aa7f908>"
      ]
     },
     "execution_count": 28,
     "metadata": {},
     "output_type": "execute_result"
    }
   ],
   "source": [
    "# Initiliazing the sequential model\n",
    "model = Sequential()\n",
    "# Configuring the parameters\n",
    "model.add(LSTM(64, input_shape=(timesteps, input_dim)))\n",
    "# Adding a dropout layer\n",
    "model.add(Dropout(0.5))\n",
    "# Adding a dense output layer with sigmoid activation\n",
    "model.add(Dense(n_classes, activation='sigmoid'))\n",
    "model.summary()\n",
    "\n",
    "# Compiling the model\n",
    "model.compile(loss='categorical_crossentropy',\n",
    "              optimizer='rmsprop',\n",
    "              metrics=['accuracy'])\n",
    "\n",
    "# Training the model\n",
    "model.fit(X_train,Y_train,batch_size=batch_size,validation_data=(X_test, Y_test),epochs=30)"
   ]
  },
  {
   "cell_type": "code",
   "execution_count": 29,
   "metadata": {},
   "outputs": [
    {
     "name": "stdout",
     "output_type": "stream",
     "text": [
      "Pred                LAYING  SITTING  STANDING  WALKING  WALKING_DOWNSTAIRS  \\\n",
      "True                                                                         \n",
      "LAYING                 510        0        27        0                   0   \n",
      "SITTING                  0      371       118        0                   0   \n",
      "STANDING                 0       95       433        1                   0   \n",
      "WALKING                  0        0         0      431                  54   \n",
      "WALKING_DOWNSTAIRS       0        0         0        0                 418   \n",
      "WALKING_UPSTAIRS         0        0         0        2                   6   \n",
      "\n",
      "Pred                WALKING_UPSTAIRS  \n",
      "True                                  \n",
      "LAYING                             0  \n",
      "SITTING                            2  \n",
      "STANDING                           3  \n",
      "WALKING                           11  \n",
      "WALKING_DOWNSTAIRS                 2  \n",
      "WALKING_UPSTAIRS                 463  \n",
      "2947/2947 [==============================] - 2s 788us/step\n"
     ]
    },
    {
     "data": {
      "text/plain": [
       "[0.39977529444468435, 0.8910756701730573]"
      ]
     },
     "execution_count": 29,
     "metadata": {},
     "output_type": "execute_result"
    }
   ],
   "source": [
    "# Confusion Matrix\n",
    "print(confusion_matrix(Y_test, model.predict(X_test)))\n",
    "score = model.evaluate(X_test, Y_test)\n",
    "score"
   ]
  },
  {
   "cell_type": "markdown",
   "metadata": {},
   "source": [
    "# 3) 32 LSTM (2 layers) with rmsprop optimizer"
   ]
  },
  {
   "cell_type": "code",
   "execution_count": 17,
   "metadata": {},
   "outputs": [
    {
     "name": "stdout",
     "output_type": "stream",
     "text": [
      "WARNING:tensorflow:From C:\\Users\\91889\\Anaconda3\\lib\\site-packages\\tensorflow\\python\\framework\\op_def_library.py:263: colocate_with (from tensorflow.python.framework.ops) is deprecated and will be removed in a future version.\n",
      "Instructions for updating:\n",
      "Colocations handled automatically by placer.\n",
      "WARNING:tensorflow:From C:\\Users\\91889\\Anaconda3\\lib\\site-packages\\keras\\backend\\tensorflow_backend.py:3445: calling dropout (from tensorflow.python.ops.nn_ops) with keep_prob is deprecated and will be removed in a future version.\n",
      "Instructions for updating:\n",
      "Please use `rate` instead of `keep_prob`. Rate should be set to `rate = 1 - keep_prob`.\n",
      "_________________________________________________________________\n",
      "Layer (type)                 Output Shape              Param #   \n",
      "=================================================================\n",
      "lstm_1 (LSTM)                (None, 128, 32)           5376      \n",
      "_________________________________________________________________\n",
      "dropout_1 (Dropout)          (None, 128, 32)           0         \n",
      "_________________________________________________________________\n",
      "lstm_2 (LSTM)                (None, 64)                24832     \n",
      "_________________________________________________________________\n",
      "dropout_2 (Dropout)          (None, 64)                0         \n",
      "_________________________________________________________________\n",
      "dense_1 (Dense)              (None, 6)                 390       \n",
      "=================================================================\n",
      "Total params: 30,598\n",
      "Trainable params: 30,598\n",
      "Non-trainable params: 0\n",
      "_________________________________________________________________\n",
      "WARNING:tensorflow:From C:\\Users\\91889\\Anaconda3\\lib\\site-packages\\tensorflow\\python\\ops\\math_ops.py:3066: to_int32 (from tensorflow.python.ops.math_ops) is deprecated and will be removed in a future version.\n",
      "Instructions for updating:\n",
      "Use tf.cast instead.\n",
      "Train on 7352 samples, validate on 2947 samples\n",
      "Epoch 1/30\n",
      "7352/7352 [==============================] - 120s 16ms/step - loss: 1.0821 - acc: 0.5193 - val_loss: 0.8994 - val_acc: 0.5870\n",
      "Epoch 2/30\n",
      "7352/7352 [==============================] - 119s 16ms/step - loss: 0.7604 - acc: 0.6590 - val_loss: 1.0785 - val_acc: 0.5833\n",
      "Epoch 3/30\n",
      "7352/7352 [==============================] - 131s 18ms/step - loss: 0.6496 - acc: 0.7205 - val_loss: 0.6717 - val_acc: 0.7173\n",
      "Epoch 4/30\n",
      "7352/7352 [==============================] - 132s 18ms/step - loss: 0.4793 - acc: 0.8296 - val_loss: 0.7328 - val_acc: 0.7872\n",
      "Epoch 5/30\n",
      "7352/7352 [==============================] - 131s 18ms/step - loss: 0.3514 - acc: 0.8855 - val_loss: 0.4815 - val_acc: 0.8548\n",
      "Epoch 6/30\n",
      "7352/7352 [==============================] - 132s 18ms/step - loss: 0.2599 - acc: 0.9158 - val_loss: 1.0288 - val_acc: 0.7543\n",
      "Epoch 7/30\n",
      "7352/7352 [==============================] - 132s 18ms/step - loss: 0.2082 - acc: 0.9280 - val_loss: 0.4283 - val_acc: 0.8901\n",
      "Epoch 8/30\n",
      "7352/7352 [==============================] - 131s 18ms/step - loss: 0.1902 - acc: 0.9328 - val_loss: 0.4970 - val_acc: 0.8714\n",
      "Epoch 9/30\n",
      "7352/7352 [==============================] - 132s 18ms/step - loss: 0.1691 - acc: 0.9393 - val_loss: 0.4310 - val_acc: 0.8890\n",
      "Epoch 10/30\n",
      "7352/7352 [==============================] - 131s 18ms/step - loss: 0.1550 - acc: 0.9416 - val_loss: 0.3831 - val_acc: 0.9030\n",
      "Epoch 11/30\n",
      "7352/7352 [==============================] - 131s 18ms/step - loss: 0.1447 - acc: 0.9422 - val_loss: 0.4634 - val_acc: 0.8941\n",
      "Epoch 12/30\n",
      "7352/7352 [==============================] - 131s 18ms/step - loss: 0.1418 - acc: 0.9448 - val_loss: 0.5578 - val_acc: 0.8955\n",
      "Epoch 13/30\n",
      "7352/7352 [==============================] - 131s 18ms/step - loss: 0.1463 - acc: 0.9445 - val_loss: 0.4949 - val_acc: 0.9057\n",
      "Epoch 14/30\n",
      "7352/7352 [==============================] - 131s 18ms/step - loss: 0.1479 - acc: 0.9460 - val_loss: 0.4974 - val_acc: 0.9060\n",
      "Epoch 15/30\n",
      "7352/7352 [==============================] - 131s 18ms/step - loss: 0.1415 - acc: 0.9455 - val_loss: 0.5379 - val_acc: 0.8924\n",
      "Epoch 16/30\n",
      "7352/7352 [==============================] - 132s 18ms/step - loss: 0.1350 - acc: 0.9493 - val_loss: 0.5041 - val_acc: 0.9148\n",
      "Epoch 17/30\n",
      "7352/7352 [==============================] - 658s 89ms/step - loss: 0.1384 - acc: 0.9487 - val_loss: 0.5977 - val_acc: 0.9026\n",
      "Epoch 18/30\n",
      "7352/7352 [==============================] - 99s 13ms/step - loss: 0.1502 - acc: 0.9475 - val_loss: 0.6147 - val_acc: 0.8992\n",
      "Epoch 19/30\n",
      "7352/7352 [==============================] - 131s 18ms/step - loss: 0.1440 - acc: 0.9493 - val_loss: 0.5211 - val_acc: 0.9023\n",
      "Epoch 20/30\n",
      "7352/7352 [==============================] - 132s 18ms/step - loss: 0.1348 - acc: 0.9520 - val_loss: 0.7268 - val_acc: 0.8877\n",
      "Epoch 21/30\n",
      "7352/7352 [==============================] - 131s 18ms/step - loss: 0.2560 - acc: 0.9047 - val_loss: 0.4776 - val_acc: 0.8571\n",
      "Epoch 22/30\n",
      "7352/7352 [==============================] - 128s 17ms/step - loss: 0.1878 - acc: 0.9351 - val_loss: 0.4702 - val_acc: 0.8928\n",
      "Epoch 23/30\n",
      "7352/7352 [==============================] - 131s 18ms/step - loss: 0.1285 - acc: 0.9535 - val_loss: 0.5957 - val_acc: 0.8931\n",
      "Epoch 24/30\n",
      "7352/7352 [==============================] - 131s 18ms/step - loss: 0.1238 - acc: 0.9529 - val_loss: 0.4916 - val_acc: 0.9203\n",
      "Epoch 25/30\n",
      "7352/7352 [==============================] - 130s 18ms/step - loss: 0.1341 - acc: 0.9518 - val_loss: 0.4282 - val_acc: 0.9152\n",
      "Epoch 26/30\n",
      "7352/7352 [==============================] - 131s 18ms/step - loss: 0.1262 - acc: 0.9527 - val_loss: 0.6289 - val_acc: 0.8877\n",
      "Epoch 27/30\n",
      "7352/7352 [==============================] - 131s 18ms/step - loss: 0.1230 - acc: 0.9482 - val_loss: 0.4142 - val_acc: 0.9141\n",
      "Epoch 28/30\n",
      "7352/7352 [==============================] - 131s 18ms/step - loss: 0.1231 - acc: 0.9504 - val_loss: 0.4602 - val_acc: 0.9108\n",
      "Epoch 29/30\n",
      "7352/7352 [==============================] - 131s 18ms/step - loss: 0.1313 - acc: 0.9521 - val_loss: 0.5567 - val_acc: 0.8989\n",
      "Epoch 30/30\n",
      "7352/7352 [==============================] - 131s 18ms/step - loss: 0.1194 - acc: 0.9513 - val_loss: 0.4093 - val_acc: 0.9128\n"
     ]
    },
    {
     "data": {
      "text/plain": [
       "<keras.callbacks.History at 0x258d62c86a0>"
      ]
     },
     "execution_count": 17,
     "metadata": {},
     "output_type": "execute_result"
    }
   ],
   "source": [
    "# Initiliazing the sequential model\n",
    "model = Sequential()\n",
    "# Configuring the parameters\n",
    "model.add(LSTM(32,return_sequences=True,\n",
    "               input_shape=(timesteps, input_dim)))\n",
    "# Adding a dropout layer\n",
    "model.add(Dropout(0.5))\n",
    "# second LSTM layer\n",
    "model.add(LSTM(64))\n",
    "model.add(Dropout(0.5))\n",
    "# Adding a dense output layer with sigmoid activation\n",
    "model.add(Dense(n_classes, activation='sigmoid'))\n",
    "model.summary()\n",
    "\n",
    "# Compiling the model\n",
    "model.compile(loss='categorical_crossentropy',optimizer='rmsprop',metrics=['accuracy'])\n",
    "\n",
    "# Training the model\n",
    "model.fit(X_train,Y_train,batch_size=batch_size,validation_data=(X_test, Y_test),epochs=30)"
   ]
  },
  {
   "cell_type": "code",
   "execution_count": 18,
   "metadata": {},
   "outputs": [
    {
     "name": "stdout",
     "output_type": "stream",
     "text": [
      "Pred                LAYING  SITTING  STANDING  WALKING  WALKING_DOWNSTAIRS  \\\n",
      "True                                                                         \n",
      "LAYING                 510        0        27        0                   0   \n",
      "SITTING                  0      375       115        0                   0   \n",
      "STANDING                 0       68       464        0                   0   \n",
      "WALKING                  0        0         0      467                  19   \n",
      "WALKING_DOWNSTAIRS       0        0         0        0                 410   \n",
      "WALKING_UPSTAIRS         0        0         0        2                   5   \n",
      "\n",
      "Pred                WALKING_UPSTAIRS  \n",
      "True                                  \n",
      "LAYING                             0  \n",
      "SITTING                            1  \n",
      "STANDING                           0  \n",
      "WALKING                           10  \n",
      "WALKING_DOWNSTAIRS                10  \n",
      "WALKING_UPSTAIRS                 464  \n",
      "2947/2947 [==============================] - 6s 2ms/step\n"
     ]
    },
    {
     "data": {
      "text/plain": [
       "[0.409253740882581, 0.9127926705123854]"
      ]
     },
     "execution_count": 18,
     "metadata": {},
     "output_type": "execute_result"
    }
   ],
   "source": [
    "# Confusion Matrix\n",
    "print(confusion_matrix(Y_test, model.predict(X_test)))\n",
    "score = model.evaluate(X_test, Y_test)\n",
    "score"
   ]
  },
  {
   "cell_type": "markdown",
   "metadata": {},
   "source": [
    " # 4) 64 LSTM (2 layer) with adam optimizer\n"
   ]
  },
  {
   "cell_type": "code",
   "execution_count": 19,
   "metadata": {},
   "outputs": [
    {
     "name": "stdout",
     "output_type": "stream",
     "text": [
      "_________________________________________________________________\n",
      "Layer (type)                 Output Shape              Param #   \n",
      "=================================================================\n",
      "lstm_3 (LSTM)                (None, 128, 64)           18944     \n",
      "_________________________________________________________________\n",
      "dropout_3 (Dropout)          (None, 128, 64)           0         \n",
      "_________________________________________________________________\n",
      "lstm_4 (LSTM)                (None, 64)                33024     \n",
      "_________________________________________________________________\n",
      "dropout_4 (Dropout)          (None, 64)                0         \n",
      "_________________________________________________________________\n",
      "dense_2 (Dense)              (None, 6)                 390       \n",
      "=================================================================\n",
      "Total params: 52,358\n",
      "Trainable params: 52,358\n",
      "Non-trainable params: 0\n",
      "_________________________________________________________________\n",
      "Train on 7352 samples, validate on 2947 samples\n",
      "Epoch 1/30\n",
      "7352/7352 [==============================] - 157s 21ms/step - loss: 1.2012 - acc: 0.4668 - val_loss: 0.8499 - val_acc: 0.5704\n",
      "Epoch 2/30\n",
      "7352/7352 [==============================] - 154s 21ms/step - loss: 1.3505 - acc: 0.3755 - val_loss: 1.3036 - val_acc: 0.3787\n",
      "Epoch 3/30\n",
      "7352/7352 [==============================] - 154s 21ms/step - loss: 0.9385 - acc: 0.5747 - val_loss: 0.9825 - val_acc: 0.5843\n",
      "Epoch 4/30\n",
      "7352/7352 [==============================] - 154s 21ms/step - loss: 0.7471 - acc: 0.6249 - val_loss: 0.7402 - val_acc: 0.6430\n",
      "Epoch 5/30\n",
      "7352/7352 [==============================] - 154s 21ms/step - loss: 0.6790 - acc: 0.6568 - val_loss: 0.7141 - val_acc: 0.6254\n",
      "Epoch 6/30\n",
      "7352/7352 [==============================] - 155s 21ms/step - loss: 0.6866 - acc: 0.6668 - val_loss: 0.8056 - val_acc: 0.6345\n",
      "Epoch 7/30\n",
      "7352/7352 [==============================] - 154s 21ms/step - loss: 0.7891 - acc: 0.6319 - val_loss: 0.7414 - val_acc: 0.6586\n",
      "Epoch 8/30\n",
      "7352/7352 [==============================] - 155s 21ms/step - loss: 0.8054 - acc: 0.5544 - val_loss: 0.8378 - val_acc: 0.5908\n",
      "Epoch 9/30\n",
      "7352/7352 [==============================] - 154s 21ms/step - loss: 0.7284 - acc: 0.6249 - val_loss: 0.7686 - val_acc: 0.6328\n",
      "Epoch 10/30\n",
      "7352/7352 [==============================] - 155s 21ms/step - loss: 0.6613 - acc: 0.6774 - val_loss: 0.7062 - val_acc: 0.6186\n",
      "Epoch 11/30\n",
      "7352/7352 [==============================] - 154s 21ms/step - loss: 0.7782 - acc: 0.6162 - val_loss: 0.8947 - val_acc: 0.6210\n",
      "Epoch 12/30\n",
      "7352/7352 [==============================] - 154s 21ms/step - loss: 0.7426 - acc: 0.6555 - val_loss: 0.6334 - val_acc: 0.7051\n",
      "Epoch 13/30\n",
      "7352/7352 [==============================] - 155s 21ms/step - loss: 0.6749 - acc: 0.7078 - val_loss: 1.0572 - val_acc: 0.5602\n",
      "Epoch 14/30\n",
      "7352/7352 [==============================] - 155s 21ms/step - loss: 0.5510 - acc: 0.7954 - val_loss: 0.5225 - val_acc: 0.8022\n",
      "Epoch 15/30\n",
      "7352/7352 [==============================] - 154s 21ms/step - loss: 0.3943 - acc: 0.8773 - val_loss: 0.6443 - val_acc: 0.7346\n",
      "Epoch 16/30\n",
      "7352/7352 [==============================] - 151s 21ms/step - loss: 0.3340 - acc: 0.8921 - val_loss: 0.4078 - val_acc: 0.8653\n",
      "Epoch 17/30\n",
      "7352/7352 [==============================] - 153s 21ms/step - loss: 0.3142 - acc: 0.8999 - val_loss: 0.5692 - val_acc: 0.7784\n",
      "Epoch 18/30\n",
      "7352/7352 [==============================] - 155s 21ms/step - loss: 0.3338 - acc: 0.8794 - val_loss: 0.6295 - val_acc: 0.7587\n",
      "Epoch 19/30\n",
      "7352/7352 [==============================] - 154s 21ms/step - loss: 0.3544 - acc: 0.8698 - val_loss: 0.3980 - val_acc: 0.8541\n",
      "Epoch 20/30\n",
      "7352/7352 [==============================] - 154s 21ms/step - loss: 0.3378 - acc: 0.8840 - val_loss: 0.5096 - val_acc: 0.8134\n",
      "Epoch 21/30\n",
      "7352/7352 [==============================] - 154s 21ms/step - loss: 0.3500 - acc: 0.8773 - val_loss: 0.4318 - val_acc: 0.8344\n",
      "Epoch 22/30\n",
      "7352/7352 [==============================] - 154s 21ms/step - loss: 0.2872 - acc: 0.9049 - val_loss: 0.3740 - val_acc: 0.8799\n",
      "Epoch 23/30\n",
      "7352/7352 [==============================] - 154s 21ms/step - loss: 0.2440 - acc: 0.9180 - val_loss: 0.4528 - val_acc: 0.8711\n",
      "Epoch 24/30\n",
      "7352/7352 [==============================] - 154s 21ms/step - loss: 0.2396 - acc: 0.9217 - val_loss: 0.8140 - val_acc: 0.7540\n",
      "Epoch 25/30\n",
      "7352/7352 [==============================] - 154s 21ms/step - loss: 0.2170 - acc: 0.9245 - val_loss: 0.4552 - val_acc: 0.8843\n",
      "Epoch 26/30\n",
      "7352/7352 [==============================] - 154s 21ms/step - loss: 0.1979 - acc: 0.9267 - val_loss: 0.4372 - val_acc: 0.8728\n",
      "Epoch 27/30\n",
      "7352/7352 [==============================] - 152s 21ms/step - loss: 0.1663 - acc: 0.9373 - val_loss: 0.4053 - val_acc: 0.8724\n",
      "Epoch 28/30\n",
      "7352/7352 [==============================] - 154s 21ms/step - loss: 0.1432 - acc: 0.9461 - val_loss: 0.3334 - val_acc: 0.9023\n",
      "Epoch 29/30\n",
      "7352/7352 [==============================] - 154s 21ms/step - loss: 0.1630 - acc: 0.9415 - val_loss: 0.3119 - val_acc: 0.8951\n",
      "Epoch 30/30\n",
      "7352/7352 [==============================] - 154s 21ms/step - loss: 0.1879 - acc: 0.9342 - val_loss: 0.3045 - val_acc: 0.8951\n"
     ]
    },
    {
     "data": {
      "text/plain": [
       "<keras.callbacks.History at 0x258d99660b8>"
      ]
     },
     "execution_count": 19,
     "metadata": {},
     "output_type": "execute_result"
    }
   ],
   "source": [
    "# Initiliazing the sequential model\n",
    "model = Sequential()\n",
    "# Configuring the parameters\n",
    "model.add(LSTM(64, return_sequences=True, input_shape=(timesteps, input_dim)))\n",
    "# Adding a dropout layer\n",
    "model.add(Dropout(0.5))  \n",
    "model.add(LSTM(64))\n",
    "model.add(Dropout(0.5))\n",
    "# Adding a dense output layer with sigmoid activation\n",
    "model.add(Dense(n_classes, activation='sigmoid'))\n",
    "model.summary()\n",
    "\n",
    "# Compiling the model\n",
    "model.compile(loss='categorical_crossentropy',optimizer='adam',metrics=['accuracy'])\n",
    "\n",
    "# Training the model\n",
    "model.fit(X_train,Y_train,batch_size=batch_size,validation_data=(X_test, Y_test),epochs=30)"
   ]
  },
  {
   "cell_type": "code",
   "execution_count": 20,
   "metadata": {},
   "outputs": [
    {
     "name": "stdout",
     "output_type": "stream",
     "text": [
      "Pred                LAYING  SITTING  STANDING  WALKING  WALKING_DOWNSTAIRS  \\\n",
      "True                                                                         \n",
      "LAYING                 537        0         0        0                   0   \n",
      "SITTING                  0      376        91       17                   2   \n",
      "STANDING                 0       91       433        8                   0   \n",
      "WALKING                  0        0         0      463                  29   \n",
      "WALKING_DOWNSTAIRS       0        0         0        5                 414   \n",
      "WALKING_UPSTAIRS         0        0         0       24                  32   \n",
      "\n",
      "Pred                WALKING_UPSTAIRS  \n",
      "True                                  \n",
      "LAYING                             0  \n",
      "SITTING                            5  \n",
      "STANDING                           0  \n",
      "WALKING                            4  \n",
      "WALKING_DOWNSTAIRS                 1  \n",
      "WALKING_UPSTAIRS                 415  \n",
      "2947/2947 [==============================] - 7s 2ms/step\n"
     ]
    },
    {
     "data": {
      "text/plain": [
       "[0.3044513650838959, 0.8951476077366813]"
      ]
     },
     "execution_count": 20,
     "metadata": {},
     "output_type": "execute_result"
    }
   ],
   "source": [
    "# Confusion Matrix\n",
    "print(confusion_matrix(Y_test, model.predict(X_test)))\n",
    "score = model.evaluate(X_test, Y_test)\n",
    "score"
   ]
  },
  {
   "cell_type": "markdown",
   "metadata": {},
   "source": [
    " # 5) 64 LSTM (2 layer) with adam optimizer, leaky relu activation\n"
   ]
  },
  {
   "cell_type": "code",
   "execution_count": 20,
   "metadata": {},
   "outputs": [
    {
     "name": "stdout",
     "output_type": "stream",
     "text": [
      "_________________________________________________________________\n",
      "Layer (type)                 Output Shape              Param #   \n",
      "=================================================================\n",
      "lstm_7 (LSTM)                (None, 128, 64)           18944     \n",
      "_________________________________________________________________\n",
      "dropout_7 (Dropout)          (None, 128, 64)           0         \n",
      "_________________________________________________________________\n",
      "lstm_8 (LSTM)                (None, 64)                33024     \n",
      "_________________________________________________________________\n",
      "dropout_8 (Dropout)          (None, 64)                0         \n",
      "_________________________________________________________________\n",
      "dense_4 (Dense)              (None, 6)                 390       \n",
      "_________________________________________________________________\n",
      "leaky_re_lu_2 (LeakyReLU)    (None, 6)                 0         \n",
      "=================================================================\n",
      "Total params: 52,358\n",
      "Trainable params: 52,358\n",
      "Non-trainable params: 0\n",
      "_________________________________________________________________\n",
      "Train on 7352 samples, validate on 2947 samples\n",
      "Epoch 1/30\n",
      "7352/7352 [==============================] - 80s 11ms/step - loss: 2.1410 - acc: 0.3995 - val_loss: 3.9423 - val_acc: 0.2810\n",
      "Epoch 2/30\n",
      "7352/7352 [==============================] - 88s 12ms/step - loss: 1.4447 - acc: 0.4816 - val_loss: 1.4974 - val_acc: 0.3638\n",
      "Epoch 3/30\n",
      "7352/7352 [==============================] - 87s 12ms/step - loss: 1.2815 - acc: 0.4674 - val_loss: 2.0969 - val_acc: 0.4788\n",
      "Epoch 4/30\n",
      "7352/7352 [==============================] - 86s 12ms/step - loss: 1.0597 - acc: 0.5862 - val_loss: 1.3998 - val_acc: 0.6206\n",
      "Epoch 5/30\n",
      "7352/7352 [==============================] - 86s 12ms/step - loss: 1.2526 - acc: 0.6069 - val_loss: 1.2125 - val_acc: 0.6620\n",
      "Epoch 6/30\n",
      "7352/7352 [==============================] - 88s 12ms/step - loss: 1.9208 - acc: 0.4434 - val_loss: 1.4550 - val_acc: 0.4527\n",
      "Epoch 7/30\n",
      "7352/7352 [==============================] - 87s 12ms/step - loss: 2.0451 - acc: 0.3685 - val_loss: 1.4628 - val_acc: 0.4713\n",
      "Epoch 8/30\n",
      "7352/7352 [==============================] - 136s 19ms/step - loss: 1.4967 - acc: 0.4193 - val_loss: 1.6809 - val_acc: 0.5039\n",
      "Epoch 9/30\n",
      "7352/7352 [==============================] - 145s 20ms/step - loss: 1.1354 - acc: 0.5291 - val_loss: 1.1743 - val_acc: 0.5731\n",
      "Epoch 10/30\n",
      "7352/7352 [==============================] - 144s 20ms/step - loss: 1.5094 - acc: 0.4693 - val_loss: 3.5996 - val_acc: 0.3278\n",
      "Epoch 11/30\n",
      "7352/7352 [==============================] - 145s 20ms/step - loss: 1.2786 - acc: 0.4584 - val_loss: 1.5530 - val_acc: 0.3196\n",
      "Epoch 12/30\n",
      "7352/7352 [==============================] - 152s 21ms/step - loss: 1.2337 - acc: 0.5394 - val_loss: 1.0558 - val_acc: 0.6196\n",
      "Epoch 13/30\n",
      "7352/7352 [==============================] - 150s 20ms/step - loss: 1.0446 - acc: 0.5943 - val_loss: 1.1626 - val_acc: 0.6060\n",
      "Epoch 14/30\n",
      "7352/7352 [==============================] - 151s 21ms/step - loss: 1.0078 - acc: 0.5733 - val_loss: 1.0853 - val_acc: 0.6183\n",
      "Epoch 15/30\n",
      "7352/7352 [==============================] - 151s 21ms/step - loss: 1.4746 - acc: 0.5686 - val_loss: 1.4165 - val_acc: 0.4279\n",
      "Epoch 16/30\n",
      "7352/7352 [==============================] - 151s 21ms/step - loss: 1.3694 - acc: 0.4867 - val_loss: 1.1002 - val_acc: 0.5609\n",
      "Epoch 17/30\n",
      "7352/7352 [==============================] - 150s 20ms/step - loss: 1.0572 - acc: 0.5741 - val_loss: 3.4355 - val_acc: 0.3315\n",
      "Epoch 18/30\n",
      "7352/7352 [==============================] - 151s 21ms/step - loss: 1.7555 - acc: 0.3983 - val_loss: 1.3425 - val_acc: 0.4435\n",
      "Epoch 19/30\n",
      "7352/7352 [==============================] - 148s 20ms/step - loss: 1.4466 - acc: 0.4321 - val_loss: 1.5517 - val_acc: 0.3753\n",
      "Epoch 20/30\n",
      "7352/7352 [==============================] - 148s 20ms/step - loss: 1.3784 - acc: 0.4455 - val_loss: 1.4249 - val_acc: 0.4978\n",
      "Epoch 21/30\n",
      "7352/7352 [==============================] - 148s 20ms/step - loss: 1.2718 - acc: 0.5099 - val_loss: 1.5261 - val_acc: 0.5501\n",
      "Epoch 22/30\n",
      "7352/7352 [==============================] - 148s 20ms/step - loss: 1.1603 - acc: 0.5522 - val_loss: 1.2582 - val_acc: 0.5351\n",
      "Epoch 23/30\n",
      "7352/7352 [==============================] - 147s 20ms/step - loss: 1.3749 - acc: 0.4792 - val_loss: 1.3804 - val_acc: 0.4184\n",
      "Epoch 24/30\n",
      "7352/7352 [==============================] - 147s 20ms/step - loss: 1.4886 - acc: 0.4384 - val_loss: 1.3385 - val_acc: 0.5168\n",
      "Epoch 25/30\n",
      "7352/7352 [==============================] - 147s 20ms/step - loss: 1.1751 - acc: 0.5037 - val_loss: 1.4133 - val_acc: 0.4822\n",
      "Epoch 26/30\n",
      "7352/7352 [==============================] - 147s 20ms/step - loss: 1.0716 - acc: 0.5238 - val_loss: 1.2135 - val_acc: 0.5110\n",
      "Epoch 27/30\n",
      "7352/7352 [==============================] - 140s 19ms/step - loss: 1.0427 - acc: 0.5377 - val_loss: 1.2475 - val_acc: 0.5372\n",
      "Epoch 28/30\n",
      "7352/7352 [==============================] - 147s 20ms/step - loss: 2.1606 - acc: 0.4514 - val_loss: 1.3812 - val_acc: 0.4438\n",
      "Epoch 29/30\n",
      "7352/7352 [==============================] - 147s 20ms/step - loss: 1.1828 - acc: 0.5748 - val_loss: 1.2483 - val_acc: 0.5307\n",
      "Epoch 30/30\n",
      "7352/7352 [==============================] - 147s 20ms/step - loss: 1.3579 - acc: 0.5301 - val_loss: 1.3161 - val_acc: 0.4897\n"
     ]
    },
    {
     "data": {
      "text/plain": [
       "<keras.callbacks.History at 0x1d45c70e2e8>"
      ]
     },
     "execution_count": 20,
     "metadata": {},
     "output_type": "execute_result"
    }
   ],
   "source": [
    "from keras.layers import LeakyReLU\n",
    "# Initiliazing the sequential model\n",
    "model = Sequential()\n",
    "# Configuring the parameters\n",
    "model.add(LSTM(64, return_sequences=True, input_shape=(timesteps, input_dim)))\n",
    "# Adding a dropout layer\n",
    "model.add(Dropout(0.5))  \n",
    "model.add(LSTM(64))\n",
    "model.add(Dropout(0.5))\n",
    "model.add(Dense(n_classes))\n",
    "model.add(LeakyReLU(alpha=0.001))\n",
    "model.summary()\n",
    "\n",
    "# Compiling the model\n",
    "model.compile(loss='categorical_crossentropy',optimizer='adam',metrics=['accuracy'])\n",
    "\n",
    "# Training the model\n",
    "model.fit(X_train,Y_train,batch_size=batch_size,validation_data=(X_test, Y_test),epochs=30)"
   ]
  },
  {
   "cell_type": "markdown",
   "metadata": {},
   "source": [
    " # 6) 62 LSTM (2 layer) with rms optimizer and Batch normalization\n"
   ]
  },
  {
   "cell_type": "code",
   "execution_count": 19,
   "metadata": {},
   "outputs": [
    {
     "name": "stderr",
     "output_type": "stream",
     "text": [
      "C:\\Users\\91889\\Anaconda3\\lib\\site-packages\\ipykernel_launcher.py:15: UserWarning: Update your `BatchNormalization` call to the Keras 2 API: `BatchNormalization(epsilon=1e-06, momentum=0.9, weights=None)`\n",
      "  from ipykernel import kernelapp as app\n"
     ]
    },
    {
     "name": "stdout",
     "output_type": "stream",
     "text": [
      "_________________________________________________________________\n",
      "Layer (type)                 Output Shape              Param #   \n",
      "=================================================================\n",
      "lstm_3 (LSTM)                (None, 128, 32)           5376      \n",
      "_________________________________________________________________\n",
      "dropout_3 (Dropout)          (None, 128, 32)           0         \n",
      "_________________________________________________________________\n",
      "lstm_4 (LSTM)                (None, 64)                24832     \n",
      "_________________________________________________________________\n",
      "dropout_4 (Dropout)          (None, 64)                0         \n",
      "_________________________________________________________________\n",
      "dense_2 (Dense)              (None, 6)                 390       \n",
      "_________________________________________________________________\n",
      "batch_normalization_1 (Batch (None, 6)                 24        \n",
      "=================================================================\n",
      "Total params: 30,622\n",
      "Trainable params: 30,610\n",
      "Non-trainable params: 12\n",
      "_________________________________________________________________\n",
      "WARNING:tensorflow:From C:\\Users\\91889\\Anaconda3\\lib\\site-packages\\tensorflow\\python\\ops\\math_ops.py:3066: to_int32 (from tensorflow.python.ops.math_ops) is deprecated and will be removed in a future version.\n",
      "Instructions for updating:\n",
      "Use tf.cast instead.\n",
      "Train on 7352 samples, validate on 2947 samples\n",
      "Epoch 1/30\n",
      "7352/7352 [==============================] - 134s 18ms/step - loss: 6.7054 - acc: 0.1632 - val_loss: 7.2483 - val_acc: 0.3733\n",
      "Epoch 2/30\n",
      "7352/7352 [==============================] - 130s 18ms/step - loss: 6.8288 - acc: 0.2229 - val_loss: 7.8709 - val_acc: 0.1177\n",
      "Epoch 3/30\n",
      "7352/7352 [==============================] - 131s 18ms/step - loss: 6.3067 - acc: 0.1168 - val_loss: 7.9148 - val_acc: 0.1425\n",
      "Epoch 4/30\n",
      "7352/7352 [==============================] - 131s 18ms/step - loss: 6.4394 - acc: 0.1812 - val_loss: 10.5903 - val_acc: 0.3125\n",
      "Epoch 5/30\n",
      "7352/7352 [==============================] - 127s 17ms/step - loss: 6.2411 - acc: 0.1634 - val_loss: 12.6050 - val_acc: 0.1425\n",
      "Epoch 6/30\n",
      "7352/7352 [==============================] - 130s 18ms/step - loss: 6.2885 - acc: 0.2069 - val_loss: 5.6853 - val_acc: 0.1656\n",
      "Epoch 7/30\n",
      "7352/7352 [==============================] - 134s 18ms/step - loss: 6.6845 - acc: 0.2146 - val_loss: 7.7828 - val_acc: 0.3112\n",
      "Epoch 8/30\n",
      "7352/7352 [==============================] - 129s 18ms/step - loss: 6.3214 - acc: 0.2722 - val_loss: 7.7993 - val_acc: 0.3091\n",
      "Epoch 9/30\n",
      "7352/7352 [==============================] - 129s 18ms/step - loss: 6.3019 - acc: 0.3134 - val_loss: 7.7555 - val_acc: 0.3101\n",
      "Epoch 10/30\n",
      "7352/7352 [==============================] - 130s 18ms/step - loss: 6.5228 - acc: 0.3233 - val_loss: 7.7828 - val_acc: 0.3577\n",
      "Epoch 11/30\n",
      "7352/7352 [==============================] - 130s 18ms/step - loss: 6.3922 - acc: 0.3307 - val_loss: 7.7828 - val_acc: 0.2922\n",
      "Epoch 12/30\n",
      "7352/7352 [==============================] - 130s 18ms/step - loss: 6.3673 - acc: 0.3135 - val_loss: 6.9882 - val_acc: 0.3278\n",
      "Epoch 13/30\n",
      "7352/7352 [==============================] - 129s 18ms/step - loss: 7.4334 - acc: 0.1831 - val_loss: 8.2587 - val_acc: 0.1425\n",
      "Epoch 14/30\n",
      "7352/7352 [==============================] - 127s 17ms/step - loss: 7.2408 - acc: 0.1668 - val_loss: 8.1447 - val_acc: 0.1649\n",
      "Epoch 15/30\n",
      "7352/7352 [==============================] - 129s 18ms/step - loss: 6.9851 - acc: 0.3322 - val_loss: 5.4310 - val_acc: 0.3621\n",
      "Epoch 16/30\n",
      "7352/7352 [==============================] - 129s 18ms/step - loss: 7.3801 - acc: 0.3206 - val_loss: 5.2506 - val_acc: 0.3539\n",
      "Epoch 17/30\n",
      "7352/7352 [==============================] - 130s 18ms/step - loss: 7.3208 - acc: 0.3168 - val_loss: 5.6443 - val_acc: 0.3614\n",
      "Epoch 18/30\n",
      "7352/7352 [==============================] - 130s 18ms/step - loss: 7.4948 - acc: 0.3315 - val_loss: 5.6061 - val_acc: 0.3621\n",
      "Epoch 19/30\n",
      "7352/7352 [==============================] - 130s 18ms/step - loss: 7.2715 - acc: 0.2975 - val_loss: 6.4374 - val_acc: 0.1836\n",
      "Epoch 20/30\n",
      "7352/7352 [==============================] - 125s 17ms/step - loss: 7.8537 - acc: 0.2316 - val_loss: 8.3352 - val_acc: 0.2874\n",
      "Epoch 21/30\n",
      "7352/7352 [==============================] - 83s 11ms/step - loss: 7.4677 - acc: 0.2813 - val_loss: 5.6498 - val_acc: 0.3624\n",
      "Epoch 22/30\n",
      "7352/7352 [==============================] - 83s 11ms/step - loss: 7.2974 - acc: 0.3239 - val_loss: 6.0890 - val_acc: 0.3183\n",
      "Epoch 23/30\n",
      "7352/7352 [==============================] - 87s 12ms/step - loss: 7.3064 - acc: 0.3137 - val_loss: 5.5734 - val_acc: 0.3560\n",
      "Epoch 24/30\n",
      "7352/7352 [==============================] - 87s 12ms/step - loss: 7.4170 - acc: 0.3317 - val_loss: 7.8211 - val_acc: 0.3570\n",
      "Epoch 25/30\n",
      "7352/7352 [==============================] - 88s 12ms/step - loss: 7.6798 - acc: 0.2726 - val_loss: 7.3200 - val_acc: 0.3186\n",
      "Epoch 26/30\n",
      "7352/7352 [==============================] - 87s 12ms/step - loss: 7.4810 - acc: 0.2135 - val_loss: 7.9683 - val_acc: 0.1805\n",
      "Epoch 27/30\n",
      "7352/7352 [==============================] - 88s 12ms/step - loss: 7.3180 - acc: 0.1506 - val_loss: 8.0618 - val_acc: 0.1860\n",
      "Epoch 28/30\n",
      "7352/7352 [==============================] - 92s 12ms/step - loss: 7.1162 - acc: 0.1306 - val_loss: 9.4809 - val_acc: 0.2206\n",
      "Epoch 29/30\n",
      "7352/7352 [==============================] - 88s 12ms/step - loss: 7.3347 - acc: 0.1681 - val_loss: 10.3155 - val_acc: 0.3553\n",
      "Epoch 30/30\n",
      "7352/7352 [==============================] - 89s 12ms/step - loss: 7.2313 - acc: 0.2017 - val_loss: 8.4045 - val_acc: 0.3617\n"
     ]
    },
    {
     "data": {
      "text/plain": [
       "<keras.callbacks.History at 0x21283dd8f28>"
      ]
     },
     "execution_count": 19,
     "metadata": {},
     "output_type": "execute_result"
    }
   ],
   "source": [
    "# import BatchNormalization\n",
    "from keras.layers.normalization import BatchNormalization\n",
    "# Initiliazing the sequential model\n",
    "model = Sequential()\n",
    "# Configuring the parameters\n",
    "model.add(LSTM(32,return_sequences=True,\n",
    "               input_shape=(timesteps, input_dim)))\n",
    "# Adding a dropout layer\n",
    "model.add(Dropout(0.5))\n",
    "# second LSTM layer\n",
    "model.add(LSTM(64))\n",
    "model.add(Dropout(0.5))\n",
    "# Adding a dense output layer with sigmoid activation\n",
    "model.add(Dense(n_classes, activation='sigmoid'))\n",
    "model.add(BatchNormalization(epsilon=1e-06, mode=0, momentum=0.9, weights=None))\n",
    "model.summary()\n",
    "\n",
    "# Compiling the model\n",
    "model.compile(loss='categorical_crossentropy',optimizer='rmsprop',metrics=['accuracy'])\n",
    "\n",
    "# Training the model\n",
    "model.fit(X_train,Y_train,batch_size=batch_size,validation_data=(X_test, Y_test),epochs=30)"
   ]
  },
  {
   "cell_type": "code",
   "execution_count": 20,
   "metadata": {},
   "outputs": [
    {
     "name": "stdout",
     "output_type": "stream",
     "text": [
      "Pred                LAYING  STANDING\n",
      "True                                \n",
      "LAYING                 534         3\n",
      "SITTING                  1       490\n",
      "STANDING                 0       532\n",
      "WALKING                  0       496\n",
      "WALKING_DOWNSTAIRS       0       420\n",
      "WALKING_UPSTAIRS         0       471\n",
      "2947/2947 [==============================] - 4s 1ms/step\n"
     ]
    },
    {
     "data": {
      "text/plain": [
       "[8.404459636591433, 0.3617237869019342]"
      ]
     },
     "execution_count": 20,
     "metadata": {},
     "output_type": "execute_result"
    }
   ],
   "source": [
    "# Confusion Matrix\n",
    "print(confusion_matrix(Y_test, model.predict(X_test)))\n",
    "score = model.evaluate(X_test, Y_test)\n",
    "score"
   ]
  },
  {
   "cell_type": "markdown",
   "metadata": {},
   "source": [
    "## Conclusion"
   ]
  },
  {
   "cell_type": "code",
   "execution_count": 21,
   "metadata": {},
   "outputs": [
    {
     "name": "stdout",
     "output_type": "stream",
     "text": [
      "+--------------------------------------------------+-------+--------+\n",
      "|                      Model                       | Layer |  AUC   |\n",
      "+--------------------------------------------------+-------+--------+\n",
      "|          32 LSTM with rmsprop optimizer          |   1   | 0.8914 |\n",
      "|          64 LSTM with rmsprop optimizer          |   1   | 0.891  |\n",
      "|          32 LSTM with rmsprop optimizer          |   2   | 0.9127 |\n",
      "|           64 LSTM with adam optimizer            |   2   | 0.8951 |\n",
      "|  64 LSTM with adam optimizer + relu activation   |   2   | 0.4897 |\n",
      "| 32 LSTM with rms optimizer + Batch Normalization |   2   | 0.3617 |\n",
      "+--------------------------------------------------+-------+--------+\n"
     ]
    }
   ],
   "source": [
    "from prettytable import PrettyTable\n",
    "    \n",
    "x = PrettyTable()\n",
    "\n",
    "x.field_names = [\"Model\", \"Layer\" ,\"AUC\"]\n",
    "\n",
    "x.add_row([\"32 LSTM with rmsprop optimizer\", 1 , 0.8914])\n",
    "x.add_row([\"64 LSTM with rmsprop optimizer\", 1 , 0.8910])\n",
    "x.add_row([\"32 LSTM with rmsprop optimizer\", 2 , 0.9127])\n",
    "x.add_row([\"64 LSTM with adam optimizer\", 2 , 0.8951])\n",
    "x.add_row([\"64 LSTM with adam optimizer + relu activation\", 2 , 0.4897])\n",
    "x.add_row([\"32 LSTM with rms optimizer + Batch Normalization\", 2 , 0.3617])\n",
    "\n",
    "\n",
    "print(x)"
   ]
  },
  {
   "cell_type": "markdown",
   "metadata": {},
   "source": [
    "- With a simple 1 layer architecture we got 89.1% accuracy.\n",
    "- We can further improved the performace with Hyperparameter tuning.\n",
    "- After hypertuning epoch and dropout_rate there was no major improvement in performance.\n",
    "- After adding 1 more layer in the LSTM model, the accuracy improved slightly to 91.2% accuracy with a loss of 0.4.\n",
    "- We tried to add batch normalization layer and Relu activation layer, however the performance deteriorated.\n",
    "\n"
   ]
  },
  {
   "cell_type": "code",
   "execution_count": null,
   "metadata": {},
   "outputs": [],
   "source": []
  },
  {
   "cell_type": "code",
   "execution_count": null,
   "metadata": {},
   "outputs": [],
   "source": []
  }
 ],
 "metadata": {
  "kernelspec": {
   "display_name": "Python 3",
   "language": "python",
   "name": "python3"
  },
  "language_info": {
   "codemirror_mode": {
    "name": "ipython",
    "version": 3
   },
   "file_extension": ".py",
   "mimetype": "text/x-python",
   "name": "python",
   "nbconvert_exporter": "python",
   "pygments_lexer": "ipython3",
   "version": "3.6.5"
  }
 },
 "nbformat": 4,
 "nbformat_minor": 2
}
